{
 "cells": [
  {
   "cell_type": "markdown",
   "metadata": {
    "papermill": {
     "duration": 0.014033,
     "end_time": "2021-02-13T21:46:11.294733",
     "exception": false,
     "start_time": "2021-02-13T21:46:11.280700",
     "status": "completed"
    },
    "tags": []
   },
   "source": [
    "# SureStart Day 5: Action Item"
   ]
  },
  {
   "cell_type": "code",
   "execution_count": 1,
   "metadata": {
    "_cell_guid": "b1076dfc-b9ad-4769-8c92-a6c4dae69d19",
    "_uuid": "8f2839f25d086af736a60e9eeb907d3b93b6e0e5",
    "execution": {
     "iopub.execute_input": "2021-02-13T21:46:11.323624Z",
     "iopub.status.busy": "2021-02-13T21:46:11.322911Z",
     "iopub.status.idle": "2021-02-13T21:46:11.333711Z",
     "shell.execute_reply": "2021-02-13T21:46:11.334400Z"
    },
    "papermill": {
     "duration": 0.028518,
     "end_time": "2021-02-13T21:46:11.334729",
     "exception": false,
     "start_time": "2021-02-13T21:46:11.306211",
     "status": "completed"
    },
    "tags": []
   },
   "outputs": [
    {
     "name": "stdout",
     "output_type": "stream",
     "text": [
      "/kaggle/input/news-headlines-dataset-for-sarcasm-detection/Sarcasm_Headlines_Dataset_v2.json\n",
      "/kaggle/input/news-headlines-dataset-for-sarcasm-detection/Sarcasm_Headlines_Dataset.json\n"
     ]
    }
   ],
   "source": [
    "# This Python 3 environment comes with many helpful analytics libraries installed\n",
    "# It is defined by the kaggle/python Docker image: https://github.com/kaggle/docker-python\n",
    "# For example, here's several helpful packages to load\n",
    "\n",
    "import numpy as np # linear algebra\n",
    "import pandas as pd # data processing, CSV file I/O (e.g. pd.read_csv)\n",
    "\n",
    "# Input data files are available in the read-only \"../input/\" directory\n",
    "# For example, running this (by clicking run or pressing Shift+Enter) will list all files under the input directory\n",
    "\n",
    "import os\n",
    "for dirname, _, filenames in os.walk('/kaggle/input'):\n",
    "    for filename in filenames:\n",
    "        print(os.path.join(dirname, filename))\n",
    "\n",
    "# You can write up to 20GB to the current directory (/kaggle/working/) that gets preserved as output when you create a version using \"Save & Run All\" \n",
    "# You can also write temporary files to /kaggle/temp/, but they won't be saved outside of the current session"
   ]
  },
  {
   "cell_type": "code",
   "execution_count": 2,
   "metadata": {
    "execution": {
     "iopub.execute_input": "2021-02-13T21:46:11.361076Z",
     "iopub.status.busy": "2021-02-13T21:46:11.360383Z",
     "iopub.status.idle": "2021-02-13T21:46:11.576745Z",
     "shell.execute_reply": "2021-02-13T21:46:11.577285Z"
    },
    "papermill": {
     "duration": 0.230859,
     "end_time": "2021-02-13T21:46:11.577471",
     "exception": false,
     "start_time": "2021-02-13T21:46:11.346612",
     "status": "completed"
    },
    "tags": []
   },
   "outputs": [
    {
     "data": {
      "text/plain": [
       "{'article_link': 'https://www.huffingtonpost.com/entry/versace-black-code_us_5861fbefe4b0de3a08f600d5',\n",
       " 'headline': \"former versace store clerk sues over secret 'black code' for minority shoppers\",\n",
       " 'is_sarcastic': 0}"
      ]
     },
     "execution_count": 2,
     "metadata": {},
     "output_type": "execute_result"
    }
   ],
   "source": [
    "# Reading the data\n",
    "\n",
    "import json\n",
    "\n",
    "def parse_data(file):\n",
    "    for l in open(file,'r'):\n",
    "        yield json.loads(l)\n",
    "\n",
    "data = list(parse_data('/kaggle/input/news-headlines-dataset-for-sarcasm-detection/Sarcasm_Headlines_Dataset.json'))\n",
    "data[0]"
   ]
  },
  {
   "cell_type": "markdown",
   "metadata": {
    "papermill": {
     "duration": 0.011269,
     "end_time": "2021-02-13T21:46:11.600505",
     "exception": false,
     "start_time": "2021-02-13T21:46:11.589236",
     "status": "completed"
    },
    "tags": []
   },
   "source": [
    "# Data Exploration"
   ]
  },
  {
   "cell_type": "code",
   "execution_count": 3,
   "metadata": {
    "execution": {
     "iopub.execute_input": "2021-02-13T21:46:11.627025Z",
     "iopub.status.busy": "2021-02-13T21:46:11.626327Z",
     "iopub.status.idle": "2021-02-13T21:46:11.820663Z",
     "shell.execute_reply": "2021-02-13T21:46:11.820114Z"
    },
    "papermill": {
     "duration": 0.20846,
     "end_time": "2021-02-13T21:46:11.820804",
     "exception": false,
     "start_time": "2021-02-13T21:46:11.612344",
     "status": "completed"
    },
    "tags": []
   },
   "outputs": [
    {
     "data": {
      "text/html": [
       "<div>\n",
       "<style scoped>\n",
       "    .dataframe tbody tr th:only-of-type {\n",
       "        vertical-align: middle;\n",
       "    }\n",
       "\n",
       "    .dataframe tbody tr th {\n",
       "        vertical-align: top;\n",
       "    }\n",
       "\n",
       "    .dataframe thead th {\n",
       "        text-align: right;\n",
       "    }\n",
       "</style>\n",
       "<table border=\"1\" class=\"dataframe\">\n",
       "  <thead>\n",
       "    <tr style=\"text-align: right;\">\n",
       "      <th></th>\n",
       "      <th>article_link</th>\n",
       "      <th>headline</th>\n",
       "      <th>is_sarcastic</th>\n",
       "    </tr>\n",
       "  </thead>\n",
       "  <tbody>\n",
       "    <tr>\n",
       "      <th>0</th>\n",
       "      <td>https://www.huffingtonpost.com/entry/versace-b...</td>\n",
       "      <td>former versace store clerk sues over secret 'b...</td>\n",
       "      <td>0</td>\n",
       "    </tr>\n",
       "    <tr>\n",
       "      <th>1</th>\n",
       "      <td>https://www.huffingtonpost.com/entry/roseanne-...</td>\n",
       "      <td>the 'roseanne' revival catches up to our thorn...</td>\n",
       "      <td>0</td>\n",
       "    </tr>\n",
       "    <tr>\n",
       "      <th>2</th>\n",
       "      <td>https://local.theonion.com/mom-starting-to-fea...</td>\n",
       "      <td>mom starting to fear son's web series closest ...</td>\n",
       "      <td>1</td>\n",
       "    </tr>\n",
       "    <tr>\n",
       "      <th>3</th>\n",
       "      <td>https://politics.theonion.com/boehner-just-wan...</td>\n",
       "      <td>boehner just wants wife to listen, not come up...</td>\n",
       "      <td>1</td>\n",
       "    </tr>\n",
       "    <tr>\n",
       "      <th>4</th>\n",
       "      <td>https://www.huffingtonpost.com/entry/jk-rowlin...</td>\n",
       "      <td>j.k. rowling wishes snape happy birthday in th...</td>\n",
       "      <td>0</td>\n",
       "    </tr>\n",
       "  </tbody>\n",
       "</table>\n",
       "</div>"
      ],
      "text/plain": [
       "                                        article_link  \\\n",
       "0  https://www.huffingtonpost.com/entry/versace-b...   \n",
       "1  https://www.huffingtonpost.com/entry/roseanne-...   \n",
       "2  https://local.theonion.com/mom-starting-to-fea...   \n",
       "3  https://politics.theonion.com/boehner-just-wan...   \n",
       "4  https://www.huffingtonpost.com/entry/jk-rowlin...   \n",
       "\n",
       "                                            headline  is_sarcastic  \n",
       "0  former versace store clerk sues over secret 'b...             0  \n",
       "1  the 'roseanne' revival catches up to our thorn...             0  \n",
       "2  mom starting to fear son's web series closest ...             1  \n",
       "3  boehner just wants wife to listen, not come up...             1  \n",
       "4  j.k. rowling wishes snape happy birthday in th...             0  "
      ]
     },
     "execution_count": 3,
     "metadata": {},
     "output_type": "execute_result"
    }
   ],
   "source": [
    "# Create dataframe\n",
    "df = pd.read_json(\"../input/news-headlines-dataset-for-sarcasm-detection/Sarcasm_Headlines_Dataset.json\", lines=True)\n",
    "df.head()"
   ]
  },
  {
   "cell_type": "code",
   "execution_count": 4,
   "metadata": {
    "execution": {
     "iopub.execute_input": "2021-02-13T21:46:11.848901Z",
     "iopub.status.busy": "2021-02-13T21:46:11.847988Z",
     "iopub.status.idle": "2021-02-13T21:46:11.853434Z",
     "shell.execute_reply": "2021-02-13T21:46:11.853906Z"
    },
    "papermill": {
     "duration": 0.020943,
     "end_time": "2021-02-13T21:46:11.854083",
     "exception": false,
     "start_time": "2021-02-13T21:46:11.833140",
     "status": "completed"
    },
    "tags": []
   },
   "outputs": [
    {
     "data": {
      "text/plain": [
       "(26709, 3)"
      ]
     },
     "execution_count": 4,
     "metadata": {},
     "output_type": "execute_result"
    }
   ],
   "source": [
    "df.shape"
   ]
  },
  {
   "cell_type": "code",
   "execution_count": 5,
   "metadata": {
    "execution": {
     "iopub.execute_input": "2021-02-13T21:46:11.883533Z",
     "iopub.status.busy": "2021-02-13T21:46:11.882555Z",
     "iopub.status.idle": "2021-02-13T21:46:11.893286Z",
     "shell.execute_reply": "2021-02-13T21:46:11.892765Z"
    },
    "papermill": {
     "duration": 0.026757,
     "end_time": "2021-02-13T21:46:11.893448",
     "exception": false,
     "start_time": "2021-02-13T21:46:11.866691",
     "status": "completed"
    },
    "tags": []
   },
   "outputs": [
    {
     "data": {
      "text/plain": [
       "0    14985\n",
       "1    11724\n",
       "Name: is_sarcastic, dtype: int64"
      ]
     },
     "execution_count": 5,
     "metadata": {},
     "output_type": "execute_result"
    }
   ],
   "source": [
    "df['is_sarcastic'].value_counts()"
   ]
  },
  {
   "cell_type": "code",
   "execution_count": 6,
   "metadata": {
    "execution": {
     "iopub.execute_input": "2021-02-13T21:46:11.923135Z",
     "iopub.status.busy": "2021-02-13T21:46:11.922499Z",
     "iopub.status.idle": "2021-02-13T21:46:13.847001Z",
     "shell.execute_reply": "2021-02-13T21:46:13.846369Z"
    },
    "papermill": {
     "duration": 1.940447,
     "end_time": "2021-02-13T21:46:13.847163",
     "exception": false,
     "start_time": "2021-02-13T21:46:11.906716",
     "status": "completed"
    },
    "tags": []
   },
   "outputs": [],
   "source": [
    "# Import `train_test_split` from `sklearn.model_selection`\n",
    "from sklearn.model_selection import train_test_split\n",
    "\n",
    "# Import TfidfVectorizer: transforms text to feature vectors that can be used as input to estimator\n",
    "from sklearn.feature_extraction.text import TfidfVectorizer\n",
    "\n",
    "# Specify the data \n",
    "vectorizer = TfidfVectorizer(max_features=1000, use_idf=False)\n",
    "headlines = [i['headline'] for i in data]\n",
    "\n",
    "# Create x variable\n",
    "X = vectorizer.fit_transform(headlines).toarray()\n",
    "\n",
    "# Create y variable (target labels)\n",
    "y=df['is_sarcastic'].values\n",
    "\n",
    "# Split the data up in train and test sets\n",
    "X_train, X_test, y_train, y_test = train_test_split(X, y, test_size=0.20, random_state=42)"
   ]
  },
  {
   "cell_type": "markdown",
   "metadata": {
    "papermill": {
     "duration": 0.012993,
     "end_time": "2021-02-13T21:46:13.873868",
     "exception": false,
     "start_time": "2021-02-13T21:46:13.860875",
     "status": "completed"
    },
    "tags": []
   },
   "source": [
    "# Build a Sequential Model"
   ]
  },
  {
   "cell_type": "code",
   "execution_count": 7,
   "metadata": {
    "execution": {
     "iopub.execute_input": "2021-02-13T21:46:13.906656Z",
     "iopub.status.busy": "2021-02-13T21:46:13.905800Z",
     "iopub.status.idle": "2021-02-13T21:46:19.464310Z",
     "shell.execute_reply": "2021-02-13T21:46:19.462662Z"
    },
    "papermill": {
     "duration": 5.577337,
     "end_time": "2021-02-13T21:46:19.464533",
     "exception": false,
     "start_time": "2021-02-13T21:46:13.887196",
     "status": "completed"
    },
    "tags": []
   },
   "outputs": [],
   "source": [
    "# Import `Sequential` from `keras.models`\n",
    "from keras.models import Sequential\n",
    "\n",
    "# Import `Dense` from `keras.layers`\n",
    "from keras.layers import Dense\n",
    "\n",
    "# Initialize the constructor\n",
    "model = Sequential()\n",
    "\n",
    "# Add an input layer \n",
    "model.add(Dense(32, activation='relu', input_shape=(1000,)))\n",
    "\n",
    "# Add one hidden layer \n",
    "model.add(Dense(4, activation='relu'))\n",
    "\n",
    "# Add an output layer \n",
    "model.add(Dense(1, activation='sigmoid'))"
   ]
  },
  {
   "cell_type": "markdown",
   "metadata": {
    "papermill": {
     "duration": 0.014433,
     "end_time": "2021-02-13T21:46:19.492475",
     "exception": false,
     "start_time": "2021-02-13T21:46:19.478042",
     "status": "completed"
    },
    "tags": []
   },
   "source": [
    "# Compile & Fit"
   ]
  },
  {
   "cell_type": "code",
   "execution_count": 8,
   "metadata": {
    "execution": {
     "iopub.execute_input": "2021-02-13T21:46:19.531909Z",
     "iopub.status.busy": "2021-02-13T21:46:19.530424Z",
     "iopub.status.idle": "2021-02-13T21:46:19.540833Z",
     "shell.execute_reply": "2021-02-13T21:46:19.541393Z"
    },
    "papermill": {
     "duration": 0.035647,
     "end_time": "2021-02-13T21:46:19.541579",
     "exception": false,
     "start_time": "2021-02-13T21:46:19.505932",
     "status": "completed"
    },
    "tags": []
   },
   "outputs": [
    {
     "name": "stdout",
     "output_type": "stream",
     "text": [
      "Model: \"sequential\"\n",
      "_________________________________________________________________\n",
      "Layer (type)                 Output Shape              Param #   \n",
      "=================================================================\n",
      "dense (Dense)                (None, 32)                32032     \n",
      "_________________________________________________________________\n",
      "dense_1 (Dense)              (None, 4)                 132       \n",
      "_________________________________________________________________\n",
      "dense_2 (Dense)              (None, 1)                 5         \n",
      "=================================================================\n",
      "Total params: 32,169\n",
      "Trainable params: 32,169\n",
      "Non-trainable params: 0\n",
      "_________________________________________________________________\n"
     ]
    }
   ],
   "source": [
    "# Compile the model \n",
    "\n",
    "# with adam optimizer and the binary_crossentropy loss function\n",
    "# can monitor the accuracy during the training by passing ['accuracy'] to the metrics argument\n",
    "\n",
    "model.compile(loss='binary_crossentropy',\n",
    "              optimizer='adam',\n",
    "              metrics=['accuracy'])\n",
    "\n",
    "# Model Summary\n",
    "model.summary()"
   ]
  },
  {
   "cell_type": "code",
   "execution_count": 9,
   "metadata": {
    "execution": {
     "iopub.execute_input": "2021-02-13T21:46:19.573208Z",
     "iopub.status.busy": "2021-02-13T21:46:19.572255Z",
     "iopub.status.idle": "2021-02-13T21:46:26.157053Z",
     "shell.execute_reply": "2021-02-13T21:46:26.156490Z"
    },
    "papermill": {
     "duration": 6.601719,
     "end_time": "2021-02-13T21:46:26.157260",
     "exception": false,
     "start_time": "2021-02-13T21:46:19.555541",
     "status": "completed"
    },
    "tags": []
   },
   "outputs": [
    {
     "name": "stdout",
     "output_type": "stream",
     "text": [
      "Epoch 1/25\n",
      "72/72 [==============================] - 1s 3ms/step - loss: 0.6739 - accuracy: 0.5750\n",
      "Epoch 2/25\n",
      "72/72 [==============================] - 0s 3ms/step - loss: 0.5232 - accuracy: 0.7932\n",
      "Epoch 3/25\n",
      "72/72 [==============================] - 0s 3ms/step - loss: 0.4132 - accuracy: 0.8182\n",
      "Epoch 4/25\n",
      "72/72 [==============================] - 0s 3ms/step - loss: 0.3853 - accuracy: 0.8231\n",
      "Epoch 5/25\n",
      "72/72 [==============================] - 0s 3ms/step - loss: 0.3810 - accuracy: 0.8251\n",
      "Epoch 6/25\n",
      "72/72 [==============================] - 0s 3ms/step - loss: 0.3667 - accuracy: 0.8325\n",
      "Epoch 7/25\n",
      "72/72 [==============================] - 0s 3ms/step - loss: 0.3627 - accuracy: 0.8331\n",
      "Epoch 8/25\n",
      "72/72 [==============================] - 0s 3ms/step - loss: 0.3659 - accuracy: 0.8281\n",
      "Epoch 9/25\n",
      "72/72 [==============================] - 0s 3ms/step - loss: 0.3595 - accuracy: 0.8320\n",
      "Epoch 10/25\n",
      "72/72 [==============================] - 0s 3ms/step - loss: 0.3518 - accuracy: 0.8367\n",
      "Epoch 11/25\n",
      "72/72 [==============================] - 0s 3ms/step - loss: 0.3612 - accuracy: 0.8296\n",
      "Epoch 12/25\n",
      "72/72 [==============================] - 0s 3ms/step - loss: 0.3449 - accuracy: 0.8425\n",
      "Epoch 13/25\n",
      "72/72 [==============================] - 0s 3ms/step - loss: 0.3583 - accuracy: 0.8333\n",
      "Epoch 14/25\n",
      "72/72 [==============================] - 0s 3ms/step - loss: 0.3451 - accuracy: 0.8400\n",
      "Epoch 15/25\n",
      "72/72 [==============================] - 0s 3ms/step - loss: 0.3421 - accuracy: 0.8425\n",
      "Epoch 16/25\n",
      "72/72 [==============================] - 0s 3ms/step - loss: 0.3359 - accuracy: 0.8468\n",
      "Epoch 17/25\n",
      "72/72 [==============================] - 0s 3ms/step - loss: 0.3383 - accuracy: 0.8434\n",
      "Epoch 18/25\n",
      "72/72 [==============================] - 0s 3ms/step - loss: 0.3288 - accuracy: 0.8489\n",
      "Epoch 19/25\n",
      "72/72 [==============================] - 0s 3ms/step - loss: 0.3277 - accuracy: 0.8491\n",
      "Epoch 20/25\n",
      "72/72 [==============================] - 0s 3ms/step - loss: 0.3246 - accuracy: 0.8554\n",
      "Epoch 21/25\n",
      "72/72 [==============================] - 0s 3ms/step - loss: 0.3163 - accuracy: 0.8567\n",
      "Epoch 22/25\n",
      "72/72 [==============================] - 0s 3ms/step - loss: 0.3144 - accuracy: 0.8585\n",
      "Epoch 23/25\n",
      "72/72 [==============================] - 0s 3ms/step - loss: 0.3113 - accuracy: 0.8605\n",
      "Epoch 24/25\n",
      "72/72 [==============================] - 0s 3ms/step - loss: 0.3084 - accuracy: 0.8635\n",
      "Epoch 25/25\n",
      "72/72 [==============================] - 0s 3ms/step - loss: 0.3057 - accuracy: 0.8658\n"
     ]
    },
    {
     "data": {
      "text/plain": [
       "<tensorflow.python.keras.callbacks.History at 0x7f832c549350>"
      ]
     },
     "execution_count": 9,
     "metadata": {},
     "output_type": "execute_result"
    }
   ],
   "source": [
    "# Fit the model\n",
    "\n",
    "model.fit(X_train, y_train,epochs=25, batch_size=300, verbose=1)"
   ]
  },
  {
   "cell_type": "markdown",
   "metadata": {
    "papermill": {
     "duration": 0.060226,
     "end_time": "2021-02-13T21:46:26.279062",
     "exception": false,
     "start_time": "2021-02-13T21:46:26.218836",
     "status": "completed"
    },
    "tags": []
   },
   "source": [
    "# **Evaluate Model**"
   ]
  },
  {
   "cell_type": "code",
   "execution_count": 10,
   "metadata": {
    "execution": {
     "iopub.execute_input": "2021-02-13T21:46:26.405622Z",
     "iopub.status.busy": "2021-02-13T21:46:26.404257Z",
     "iopub.status.idle": "2021-02-13T21:46:27.256226Z",
     "shell.execute_reply": "2021-02-13T21:46:27.256741Z"
    },
    "papermill": {
     "duration": 0.918267,
     "end_time": "2021-02-13T21:46:27.256920",
     "exception": false,
     "start_time": "2021-02-13T21:46:26.338653",
     "status": "completed"
    },
    "tags": []
   },
   "outputs": [
    {
     "name": "stdout",
     "output_type": "stream",
     "text": [
      "167/167 [==============================] - 0s 1ms/step - loss: 0.4343 - accuracy: 0.8074\n",
      "[0.4342542886734009, 0.8073754906654358]\n"
     ]
    }
   ],
   "source": [
    "# Predict the labels (test the model)\n",
    "y_pred = model.predict(X_test)\n",
    "\n",
    "# Evaluate the model\n",
    "score = model.evaluate(X_test, y_test,verbose=1)\n",
    "\n",
    "# score is a list that holds the combination of the loss and the accuracy\n",
    "print(score)"
   ]
  },
  {
   "cell_type": "code",
   "execution_count": 11,
   "metadata": {
    "execution": {
     "iopub.execute_input": "2021-02-13T21:46:27.384730Z",
     "iopub.status.busy": "2021-02-13T21:46:27.384008Z",
     "iopub.status.idle": "2021-02-13T21:46:27.422374Z",
     "shell.execute_reply": "2021-02-13T21:46:27.422972Z"
    },
    "papermill": {
     "duration": 0.104392,
     "end_time": "2021-02-13T21:46:27.423162",
     "exception": false,
     "start_time": "2021-02-13T21:46:27.318770",
     "status": "completed"
    },
    "tags": []
   },
   "outputs": [
    {
     "data": {
      "text/plain": [
       "array([[2481,  515],\n",
       "       [ 514, 1832]])"
      ]
     },
     "execution_count": 11,
     "metadata": {},
     "output_type": "execute_result"
    }
   ],
   "source": [
    "# Import the modules for evaluation metrics from `sklearn.metrics`\n",
    "from sklearn.metrics import confusion_matrix, precision_score, recall_score, f1_score\n",
    "\n",
    "# Confusion matrix\n",
    "confusion_matrix(y_test, y_pred.round())"
   ]
  },
  {
   "cell_type": "code",
   "execution_count": 12,
   "metadata": {
    "execution": {
     "iopub.execute_input": "2021-02-13T21:46:27.551475Z",
     "iopub.status.busy": "2021-02-13T21:46:27.550769Z",
     "iopub.status.idle": "2021-02-13T21:46:27.569540Z",
     "shell.execute_reply": "2021-02-13T21:46:27.570042Z"
    },
    "papermill": {
     "duration": 0.084804,
     "end_time": "2021-02-13T21:46:27.570233",
     "exception": false,
     "start_time": "2021-02-13T21:46:27.485429",
     "status": "completed"
    },
    "tags": []
   },
   "outputs": [
    {
     "name": "stdout",
     "output_type": "stream",
     "text": [
      "Precision: 0.7805709416276098\n",
      "Recall: 0.7809036658141517\n",
      "F1 Score: 0.7807372682718944\n"
     ]
    }
   ],
   "source": [
    "# Precision: a measure of a classifier’s exactness; the higher the precision, the more accurate the classifier\n",
    "precision = precision_score(y_test, y_pred.round())\n",
    "\n",
    "# Recall: a measure of a classifier’s completeness; the higher the recall, the more cases the classifier covers\n",
    "recall = recall_score(y_test, y_pred.round())\n",
    "\n",
    "# F1 score: a weighted average of precision and recall\n",
    "f1_score = f1_score(y_test,y_pred.round())\n",
    "\n",
    "# Print all values\n",
    "print(f\"Precision: {precision}\")\n",
    "print(f\"Recall: {recall}\")\n",
    "print(f\"F1 Score: {f1_score}\")"
   ]
  },
  {
   "cell_type": "code",
   "execution_count": null,
   "metadata": {
    "papermill": {
     "duration": 0.064975,
     "end_time": "2021-02-13T21:46:27.706780",
     "exception": false,
     "start_time": "2021-02-13T21:46:27.641805",
     "status": "completed"
    },
    "tags": []
   },
   "outputs": [],
   "source": []
  }
 ],
 "metadata": {
  "kernelspec": {
   "display_name": "Python 3",
   "language": "python",
   "name": "python3"
  },
  "language_info": {
   "codemirror_mode": {
    "name": "ipython",
    "version": 3
   },
   "file_extension": ".py",
   "mimetype": "text/x-python",
   "name": "python",
   "nbconvert_exporter": "python",
   "pygments_lexer": "ipython3",
   "version": "3.7.9"
  },
  "papermill": {
   "default_parameters": {},
   "duration": 23.320108,
   "end_time": "2021-02-13T21:46:28.883125",
   "environment_variables": {},
   "exception": null,
   "input_path": "__notebook__.ipynb",
   "output_path": "__notebook__.ipynb",
   "parameters": {},
   "start_time": "2021-02-13T21:46:05.563017",
   "version": "2.2.2"
  }
 },
 "nbformat": 4,
 "nbformat_minor": 4
}
