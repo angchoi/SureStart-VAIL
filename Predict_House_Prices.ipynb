{
  "nbformat": 4,
  "nbformat_minor": 0,
  "metadata": {
    "kernelspec": {
      "display_name": "Python 3",
      "language": "python",
      "name": "python3"
    },
    "language_info": {
      "codemirror_mode": {
        "name": "ipython",
        "version": 3
      },
      "file_extension": ".py",
      "mimetype": "text/x-python",
      "name": "python",
      "nbconvert_exporter": "python",
      "pygments_lexer": "ipython3",
      "version": "3.6.8"
    },
    "colab": {
      "name": "Predict House Prices.ipynb",
      "provenance": [],
      "toc_visible": true
    }
  },
  "cells": [
    {
      "cell_type": "markdown",
      "metadata": {
        "id": "dGNg_lruUigy"
      },
      "source": [
        "# Neural Network to Predict House Prices"
      ]
    },
    {
      "cell_type": "markdown",
      "metadata": {
        "id": "-nfuwek_Uig4"
      },
      "source": [
        "In this notebook, I create a simple CNN to predict whether the house price is below or above median value. \n",
        "\n",
        "The dataset used can be found [here](https://drive.google.com/file/d/1GfvKA0qznNVknghV4botnNxyH-KvODOC/view), and the tutorial that I followed is: https://hackernoon.com/build-your-first-neural-network-to-predict-house-prices-with-keras-3fb0839680f4"
      ]
    },
    {
      "cell_type": "markdown",
      "metadata": {
        "id": "p_i9z5FYUig4"
      },
      "source": [
        "# Exploring and Processing the Data"
      ]
    },
    {
      "cell_type": "code",
      "metadata": {
        "id": "GZgNmUi1Uig5"
      },
      "source": [
        "import pandas as pd"
      ],
      "execution_count": 1,
      "outputs": []
    },
    {
      "cell_type": "code",
      "metadata": {
        "id": "eh7hL2EwUig5"
      },
      "source": [
        "# read in the csv file\r\n",
        "df = pd.read_csv('housepricedata.csv')"
      ],
      "execution_count": 2,
      "outputs": []
    },
    {
      "cell_type": "code",
      "metadata": {
        "id": "zYOMnuAgUig6",
        "colab": {
          "base_uri": "https://localhost:8080/",
          "height": 407
        },
        "outputId": "200fdace-05cd-45b7-b6b6-42db5d9acaa7"
      },
      "source": [
        "df"
      ],
      "execution_count": 3,
      "outputs": [
        {
          "output_type": "execute_result",
          "data": {
            "text/html": [
              "<div>\n",
              "<style scoped>\n",
              "    .dataframe tbody tr th:only-of-type {\n",
              "        vertical-align: middle;\n",
              "    }\n",
              "\n",
              "    .dataframe tbody tr th {\n",
              "        vertical-align: top;\n",
              "    }\n",
              "\n",
              "    .dataframe thead th {\n",
              "        text-align: right;\n",
              "    }\n",
              "</style>\n",
              "<table border=\"1\" class=\"dataframe\">\n",
              "  <thead>\n",
              "    <tr style=\"text-align: right;\">\n",
              "      <th></th>\n",
              "      <th>LotArea</th>\n",
              "      <th>OverallQual</th>\n",
              "      <th>OverallCond</th>\n",
              "      <th>TotalBsmtSF</th>\n",
              "      <th>FullBath</th>\n",
              "      <th>HalfBath</th>\n",
              "      <th>BedroomAbvGr</th>\n",
              "      <th>TotRmsAbvGrd</th>\n",
              "      <th>Fireplaces</th>\n",
              "      <th>GarageArea</th>\n",
              "      <th>AboveMedianPrice</th>\n",
              "    </tr>\n",
              "  </thead>\n",
              "  <tbody>\n",
              "    <tr>\n",
              "      <th>0</th>\n",
              "      <td>8450</td>\n",
              "      <td>7</td>\n",
              "      <td>5</td>\n",
              "      <td>856</td>\n",
              "      <td>2</td>\n",
              "      <td>1</td>\n",
              "      <td>3</td>\n",
              "      <td>8</td>\n",
              "      <td>0</td>\n",
              "      <td>548</td>\n",
              "      <td>1</td>\n",
              "    </tr>\n",
              "    <tr>\n",
              "      <th>1</th>\n",
              "      <td>9600</td>\n",
              "      <td>6</td>\n",
              "      <td>8</td>\n",
              "      <td>1262</td>\n",
              "      <td>2</td>\n",
              "      <td>0</td>\n",
              "      <td>3</td>\n",
              "      <td>6</td>\n",
              "      <td>1</td>\n",
              "      <td>460</td>\n",
              "      <td>1</td>\n",
              "    </tr>\n",
              "    <tr>\n",
              "      <th>2</th>\n",
              "      <td>11250</td>\n",
              "      <td>7</td>\n",
              "      <td>5</td>\n",
              "      <td>920</td>\n",
              "      <td>2</td>\n",
              "      <td>1</td>\n",
              "      <td>3</td>\n",
              "      <td>6</td>\n",
              "      <td>1</td>\n",
              "      <td>608</td>\n",
              "      <td>1</td>\n",
              "    </tr>\n",
              "    <tr>\n",
              "      <th>3</th>\n",
              "      <td>9550</td>\n",
              "      <td>7</td>\n",
              "      <td>5</td>\n",
              "      <td>756</td>\n",
              "      <td>1</td>\n",
              "      <td>0</td>\n",
              "      <td>3</td>\n",
              "      <td>7</td>\n",
              "      <td>1</td>\n",
              "      <td>642</td>\n",
              "      <td>0</td>\n",
              "    </tr>\n",
              "    <tr>\n",
              "      <th>4</th>\n",
              "      <td>14260</td>\n",
              "      <td>8</td>\n",
              "      <td>5</td>\n",
              "      <td>1145</td>\n",
              "      <td>2</td>\n",
              "      <td>1</td>\n",
              "      <td>4</td>\n",
              "      <td>9</td>\n",
              "      <td>1</td>\n",
              "      <td>836</td>\n",
              "      <td>1</td>\n",
              "    </tr>\n",
              "    <tr>\n",
              "      <th>...</th>\n",
              "      <td>...</td>\n",
              "      <td>...</td>\n",
              "      <td>...</td>\n",
              "      <td>...</td>\n",
              "      <td>...</td>\n",
              "      <td>...</td>\n",
              "      <td>...</td>\n",
              "      <td>...</td>\n",
              "      <td>...</td>\n",
              "      <td>...</td>\n",
              "      <td>...</td>\n",
              "    </tr>\n",
              "    <tr>\n",
              "      <th>1455</th>\n",
              "      <td>7917</td>\n",
              "      <td>6</td>\n",
              "      <td>5</td>\n",
              "      <td>953</td>\n",
              "      <td>2</td>\n",
              "      <td>1</td>\n",
              "      <td>3</td>\n",
              "      <td>7</td>\n",
              "      <td>1</td>\n",
              "      <td>460</td>\n",
              "      <td>1</td>\n",
              "    </tr>\n",
              "    <tr>\n",
              "      <th>1456</th>\n",
              "      <td>13175</td>\n",
              "      <td>6</td>\n",
              "      <td>6</td>\n",
              "      <td>1542</td>\n",
              "      <td>2</td>\n",
              "      <td>0</td>\n",
              "      <td>3</td>\n",
              "      <td>7</td>\n",
              "      <td>2</td>\n",
              "      <td>500</td>\n",
              "      <td>1</td>\n",
              "    </tr>\n",
              "    <tr>\n",
              "      <th>1457</th>\n",
              "      <td>9042</td>\n",
              "      <td>7</td>\n",
              "      <td>9</td>\n",
              "      <td>1152</td>\n",
              "      <td>2</td>\n",
              "      <td>0</td>\n",
              "      <td>4</td>\n",
              "      <td>9</td>\n",
              "      <td>2</td>\n",
              "      <td>252</td>\n",
              "      <td>1</td>\n",
              "    </tr>\n",
              "    <tr>\n",
              "      <th>1458</th>\n",
              "      <td>9717</td>\n",
              "      <td>5</td>\n",
              "      <td>6</td>\n",
              "      <td>1078</td>\n",
              "      <td>1</td>\n",
              "      <td>0</td>\n",
              "      <td>2</td>\n",
              "      <td>5</td>\n",
              "      <td>0</td>\n",
              "      <td>240</td>\n",
              "      <td>0</td>\n",
              "    </tr>\n",
              "    <tr>\n",
              "      <th>1459</th>\n",
              "      <td>9937</td>\n",
              "      <td>5</td>\n",
              "      <td>6</td>\n",
              "      <td>1256</td>\n",
              "      <td>1</td>\n",
              "      <td>1</td>\n",
              "      <td>3</td>\n",
              "      <td>6</td>\n",
              "      <td>0</td>\n",
              "      <td>276</td>\n",
              "      <td>0</td>\n",
              "    </tr>\n",
              "  </tbody>\n",
              "</table>\n",
              "<p>1460 rows × 11 columns</p>\n",
              "</div>"
            ],
            "text/plain": [
              "      LotArea  OverallQual  ...  GarageArea  AboveMedianPrice\n",
              "0        8450            7  ...         548                 1\n",
              "1        9600            6  ...         460                 1\n",
              "2       11250            7  ...         608                 1\n",
              "3        9550            7  ...         642                 0\n",
              "4       14260            8  ...         836                 1\n",
              "...       ...          ...  ...         ...               ...\n",
              "1455     7917            6  ...         460                 1\n",
              "1456    13175            6  ...         500                 1\n",
              "1457     9042            7  ...         252                 1\n",
              "1458     9717            5  ...         240                 0\n",
              "1459     9937            5  ...         276                 0\n",
              "\n",
              "[1460 rows x 11 columns]"
            ]
          },
          "metadata": {
            "tags": []
          },
          "execution_count": 3
        }
      ]
    },
    {
      "cell_type": "code",
      "metadata": {
        "id": "yK22i9asUig7"
      },
      "source": [
        "# convert pandas dataframe into an array by accessing its values\r\n",
        "dataset = df.values"
      ],
      "execution_count": 4,
      "outputs": []
    },
    {
      "cell_type": "code",
      "metadata": {
        "id": "u14tNpqdUig7",
        "colab": {
          "base_uri": "https://localhost:8080/"
        },
        "outputId": "8084f0b1-1cdc-45f9-97f0-238881a5cfe7"
      },
      "source": [
        "dataset"
      ],
      "execution_count": 5,
      "outputs": [
        {
          "output_type": "execute_result",
          "data": {
            "text/plain": [
              "array([[ 8450,     7,     5, ...,     0,   548,     1],\n",
              "       [ 9600,     6,     8, ...,     1,   460,     1],\n",
              "       [11250,     7,     5, ...,     1,   608,     1],\n",
              "       ...,\n",
              "       [ 9042,     7,     9, ...,     2,   252,     1],\n",
              "       [ 9717,     5,     6, ...,     0,   240,     0],\n",
              "       [ 9937,     5,     6, ...,     0,   276,     0]])"
            ]
          },
          "metadata": {
            "tags": []
          },
          "execution_count": 5
        }
      ]
    },
    {
      "cell_type": "code",
      "metadata": {
        "id": "pRyOrOgfUig8"
      },
      "source": [
        "# split dataset into our input features & the label to predict\n",
        "X = dataset[:,0:10]\n",
        "Y = dataset[:,10]"
      ],
      "execution_count": 6,
      "outputs": []
    },
    {
      "cell_type": "markdown",
      "metadata": {
        "id": "gvt9xghTUig8"
      },
      "source": [
        "Normalizing our data is very important, as we want the input features to be on the same order of magnitude to make our training easier. "
      ]
    },
    {
      "cell_type": "code",
      "metadata": {
        "id": "KcbGZX1aUig8"
      },
      "source": [
        "from sklearn import preprocessing"
      ],
      "execution_count": 7,
      "outputs": []
    },
    {
      "cell_type": "code",
      "metadata": {
        "id": "d_Am02q0Uig9"
      },
      "source": [
        "# scale our data to be between 0 and 1\n",
        "min_max_scaler = preprocessing.MinMaxScaler()\n",
        "X_scale = min_max_scaler.fit_transform(X)"
      ],
      "execution_count": 8,
      "outputs": []
    },
    {
      "cell_type": "code",
      "metadata": {
        "id": "S2lbl0ZtUig9",
        "colab": {
          "base_uri": "https://localhost:8080/"
        },
        "outputId": "3a7f5b08-bcc1-4864-c9c8-6ca032dbe23e"
      },
      "source": [
        "X_scale"
      ],
      "execution_count": 9,
      "outputs": [
        {
          "output_type": "execute_result",
          "data": {
            "text/plain": [
              "array([[0.0334198 , 0.66666667, 0.5       , ..., 0.5       , 0.        ,\n",
              "        0.3864598 ],\n",
              "       [0.03879502, 0.55555556, 0.875     , ..., 0.33333333, 0.33333333,\n",
              "        0.32440056],\n",
              "       [0.04650728, 0.66666667, 0.5       , ..., 0.33333333, 0.33333333,\n",
              "        0.42877292],\n",
              "       ...,\n",
              "       [0.03618687, 0.66666667, 1.        , ..., 0.58333333, 0.66666667,\n",
              "        0.17771509],\n",
              "       [0.03934189, 0.44444444, 0.625     , ..., 0.25      , 0.        ,\n",
              "        0.16925247],\n",
              "       [0.04037019, 0.44444444, 0.625     , ..., 0.33333333, 0.        ,\n",
              "        0.19464034]])"
            ]
          },
          "metadata": {
            "tags": []
          },
          "execution_count": 9
        }
      ]
    },
    {
      "cell_type": "markdown",
      "metadata": {
        "id": "d58M4rK2Uig9"
      },
      "source": [
        "Set aside some parts of our dataset for a validation set and a test set."
      ]
    },
    {
      "cell_type": "code",
      "metadata": {
        "id": "riC_FoJhUig9"
      },
      "source": [
        "from sklearn.model_selection import train_test_split"
      ],
      "execution_count": 10,
      "outputs": []
    },
    {
      "cell_type": "code",
      "metadata": {
        "id": "XEeMv2SEUig-"
      },
      "source": [
        "X_train, X_val_and_test, Y_train, Y_val_and_test = train_test_split(X_scale, Y, test_size=0.3)"
      ],
      "execution_count": 11,
      "outputs": []
    },
    {
      "cell_type": "code",
      "metadata": {
        "id": "T_4BNI6pUig-"
      },
      "source": [
        "X_val, X_test, Y_val, Y_test = train_test_split(X_val_and_test, Y_val_and_test, test_size=0.5)"
      ],
      "execution_count": 12,
      "outputs": []
    },
    {
      "cell_type": "code",
      "metadata": {
        "id": "j5XwKxwCUig-",
        "colab": {
          "base_uri": "https://localhost:8080/"
        },
        "outputId": "c40ad812-3977-42d1-d450-e46a8094c0ce"
      },
      "source": [
        "print(X_train.shape, X_val.shape, X_test.shape, Y_train.shape, Y_val.shape, Y_test.shape)"
      ],
      "execution_count": 13,
      "outputs": [
        {
          "output_type": "stream",
          "text": [
            "(1022, 10) (219, 10) (219, 10) (1022,) (219,) (219,)\n"
          ],
          "name": "stdout"
        }
      ]
    },
    {
      "cell_type": "markdown",
      "metadata": {
        "id": "spvCiyCVUig-"
      },
      "source": [
        "# Building and Training Our Neural Network"
      ]
    },
    {
      "cell_type": "code",
      "metadata": {
        "id": "gVrtL7rMUig_"
      },
      "source": [
        "from keras.models import Sequential\n",
        "from keras.layers import Dense"
      ],
      "execution_count": 14,
      "outputs": []
    },
    {
      "cell_type": "markdown",
      "metadata": {
        "id": "W-D_zRq9Uig_"
      },
      "source": [
        "We will be using the Sequential model, which means that we merely need to describe the layers above in sequence. Our neural network has three layers:\n",
        "\n",
        "- Hidden layer 1: 30 neurons, ReLU activation\n",
        "- Hidden layer 2: 30 neurons, ReLU activation\n",
        "- Output Layer: 1 neuron, Sigmoid activation"
      ]
    },
    {
      "cell_type": "code",
      "metadata": {
        "id": "Zrfp6U0mUig_"
      },
      "source": [
        "model = Sequential([\n",
        "    Dense(32, activation='relu', input_shape=(10,)),\n",
        "    Dense(32, activation='relu'),\n",
        "    Dense(1, activation='sigmoid'),\n",
        "])"
      ],
      "execution_count": 15,
      "outputs": []
    },
    {
      "cell_type": "markdown",
      "metadata": {
        "id": "UbnoVC2QUig_"
      },
      "source": [
        "Now that we've got our architecture specified, we need to configure the model before we start training by:\n",
        "- Telling it what algorithm you want to use to do the optimization (we'll use stochastic gradient descent)\n",
        "- Telling it what loss function to use (for binary classification, we will use binary cross entropy)\n",
        "- Telling it what other metrics you want to track apart from the loss function (we want to track accuracy as well)"
      ]
    },
    {
      "cell_type": "code",
      "metadata": {
        "id": "Qa7qlni3Uig_"
      },
      "source": [
        "model.compile(optimizer='sgd',\n",
        "              loss='binary_crossentropy',\n",
        "              metrics=['accuracy'])"
      ],
      "execution_count": 16,
      "outputs": []
    },
    {
      "cell_type": "code",
      "metadata": {
        "id": "3fbg0Lt8UihA",
        "colab": {
          "base_uri": "https://localhost:8080/"
        },
        "outputId": "91a8bf13-037b-4230-8716-91b26ea176a5"
      },
      "source": [
        "# specify the data we are training on, size of mini-batch, and how long to train for (epochs)\n",
        "# also specify what our validation data is so that the model will tell us how we are doing on the validation data at each point\n",
        "\n",
        "hist = model.fit(X_train, Y_train,\n",
        "          batch_size=32, epochs=100,\n",
        "          validation_data=(X_val, Y_val))"
      ],
      "execution_count": 17,
      "outputs": [
        {
          "output_type": "stream",
          "text": [
            "Epoch 1/100\n",
            "32/32 [==============================] - 1s 17ms/step - loss: 0.6881 - accuracy: 0.6482 - val_loss: 0.6773 - val_accuracy: 0.7489\n",
            "Epoch 2/100\n",
            "32/32 [==============================] - 0s 3ms/step - loss: 0.6772 - accuracy: 0.7002 - val_loss: 0.6672 - val_accuracy: 0.7169\n",
            "Epoch 3/100\n",
            "32/32 [==============================] - 0s 2ms/step - loss: 0.6672 - accuracy: 0.6870 - val_loss: 0.6590 - val_accuracy: 0.7215\n",
            "Epoch 4/100\n",
            "32/32 [==============================] - 0s 3ms/step - loss: 0.6609 - accuracy: 0.7076 - val_loss: 0.6513 - val_accuracy: 0.7352\n",
            "Epoch 5/100\n",
            "32/32 [==============================] - 0s 2ms/step - loss: 0.6561 - accuracy: 0.7048 - val_loss: 0.6442 - val_accuracy: 0.7534\n",
            "Epoch 6/100\n",
            "32/32 [==============================] - 0s 2ms/step - loss: 0.6537 - accuracy: 0.7155 - val_loss: 0.6376 - val_accuracy: 0.7580\n",
            "Epoch 7/100\n",
            "32/32 [==============================] - 0s 2ms/step - loss: 0.6445 - accuracy: 0.7449 - val_loss: 0.6313 - val_accuracy: 0.7763\n",
            "Epoch 8/100\n",
            "32/32 [==============================] - 0s 3ms/step - loss: 0.6399 - accuracy: 0.7579 - val_loss: 0.6253 - val_accuracy: 0.7991\n",
            "Epoch 9/100\n",
            "32/32 [==============================] - 0s 2ms/step - loss: 0.6336 - accuracy: 0.7656 - val_loss: 0.6192 - val_accuracy: 0.8219\n",
            "Epoch 10/100\n",
            "32/32 [==============================] - 0s 2ms/step - loss: 0.6269 - accuracy: 0.7828 - val_loss: 0.6130 - val_accuracy: 0.8311\n",
            "Epoch 11/100\n",
            "32/32 [==============================] - 0s 3ms/step - loss: 0.6207 - accuracy: 0.7843 - val_loss: 0.6068 - val_accuracy: 0.8356\n",
            "Epoch 12/100\n",
            "32/32 [==============================] - 0s 3ms/step - loss: 0.6187 - accuracy: 0.7922 - val_loss: 0.5999 - val_accuracy: 0.8356\n",
            "Epoch 13/100\n",
            "32/32 [==============================] - 0s 3ms/step - loss: 0.6037 - accuracy: 0.8141 - val_loss: 0.5932 - val_accuracy: 0.8356\n",
            "Epoch 14/100\n",
            "32/32 [==============================] - 0s 2ms/step - loss: 0.6028 - accuracy: 0.7977 - val_loss: 0.5860 - val_accuracy: 0.8447\n",
            "Epoch 15/100\n",
            "32/32 [==============================] - 0s 3ms/step - loss: 0.5889 - accuracy: 0.8233 - val_loss: 0.5786 - val_accuracy: 0.8493\n",
            "Epoch 16/100\n",
            "32/32 [==============================] - 0s 3ms/step - loss: 0.5820 - accuracy: 0.8300 - val_loss: 0.5708 - val_accuracy: 0.8493\n",
            "Epoch 17/100\n",
            "32/32 [==============================] - 0s 3ms/step - loss: 0.5815 - accuracy: 0.8193 - val_loss: 0.5632 - val_accuracy: 0.8402\n",
            "Epoch 18/100\n",
            "32/32 [==============================] - 0s 3ms/step - loss: 0.5740 - accuracy: 0.8126 - val_loss: 0.5551 - val_accuracy: 0.8402\n",
            "Epoch 19/100\n",
            "32/32 [==============================] - 0s 3ms/step - loss: 0.5641 - accuracy: 0.8143 - val_loss: 0.5480 - val_accuracy: 0.8447\n",
            "Epoch 20/100\n",
            "32/32 [==============================] - 0s 3ms/step - loss: 0.5508 - accuracy: 0.8334 - val_loss: 0.5398 - val_accuracy: 0.8356\n",
            "Epoch 21/100\n",
            "32/32 [==============================] - 0s 2ms/step - loss: 0.5408 - accuracy: 0.8347 - val_loss: 0.5308 - val_accuracy: 0.8447\n",
            "Epoch 22/100\n",
            "32/32 [==============================] - 0s 3ms/step - loss: 0.5366 - accuracy: 0.8321 - val_loss: 0.5220 - val_accuracy: 0.8402\n",
            "Epoch 23/100\n",
            "32/32 [==============================] - 0s 2ms/step - loss: 0.5276 - accuracy: 0.8368 - val_loss: 0.5135 - val_accuracy: 0.8447\n",
            "Epoch 24/100\n",
            "32/32 [==============================] - 0s 3ms/step - loss: 0.5215 - accuracy: 0.8504 - val_loss: 0.5051 - val_accuracy: 0.8447\n",
            "Epoch 25/100\n",
            "32/32 [==============================] - 0s 3ms/step - loss: 0.5167 - accuracy: 0.8504 - val_loss: 0.4964 - val_accuracy: 0.8447\n",
            "Epoch 26/100\n",
            "32/32 [==============================] - 0s 3ms/step - loss: 0.4981 - accuracy: 0.8504 - val_loss: 0.4887 - val_accuracy: 0.8493\n",
            "Epoch 27/100\n",
            "32/32 [==============================] - 0s 3ms/step - loss: 0.4948 - accuracy: 0.8624 - val_loss: 0.4801 - val_accuracy: 0.8402\n",
            "Epoch 28/100\n",
            "32/32 [==============================] - 0s 3ms/step - loss: 0.4807 - accuracy: 0.8568 - val_loss: 0.4726 - val_accuracy: 0.8493\n",
            "Epoch 29/100\n",
            "32/32 [==============================] - 0s 3ms/step - loss: 0.4734 - accuracy: 0.8613 - val_loss: 0.4641 - val_accuracy: 0.8493\n",
            "Epoch 30/100\n",
            "32/32 [==============================] - 0s 2ms/step - loss: 0.4628 - accuracy: 0.8581 - val_loss: 0.4553 - val_accuracy: 0.8493\n",
            "Epoch 31/100\n",
            "32/32 [==============================] - 0s 3ms/step - loss: 0.4610 - accuracy: 0.8509 - val_loss: 0.4478 - val_accuracy: 0.8539\n",
            "Epoch 32/100\n",
            "32/32 [==============================] - 0s 2ms/step - loss: 0.4644 - accuracy: 0.8458 - val_loss: 0.4401 - val_accuracy: 0.8584\n",
            "Epoch 33/100\n",
            "32/32 [==============================] - 0s 3ms/step - loss: 0.4384 - accuracy: 0.8568 - val_loss: 0.4344 - val_accuracy: 0.8539\n",
            "Epoch 34/100\n",
            "32/32 [==============================] - 0s 3ms/step - loss: 0.4373 - accuracy: 0.8594 - val_loss: 0.4260 - val_accuracy: 0.8584\n",
            "Epoch 35/100\n",
            "32/32 [==============================] - 0s 2ms/step - loss: 0.4370 - accuracy: 0.8502 - val_loss: 0.4193 - val_accuracy: 0.8630\n",
            "Epoch 36/100\n",
            "32/32 [==============================] - 0s 2ms/step - loss: 0.4314 - accuracy: 0.8579 - val_loss: 0.4124 - val_accuracy: 0.8630\n",
            "Epoch 37/100\n",
            "32/32 [==============================] - 0s 3ms/step - loss: 0.4095 - accuracy: 0.8796 - val_loss: 0.4067 - val_accuracy: 0.8630\n",
            "Epoch 38/100\n",
            "32/32 [==============================] - 0s 3ms/step - loss: 0.4150 - accuracy: 0.8567 - val_loss: 0.4008 - val_accuracy: 0.8630\n",
            "Epoch 39/100\n",
            "32/32 [==============================] - 0s 3ms/step - loss: 0.4119 - accuracy: 0.8637 - val_loss: 0.3953 - val_accuracy: 0.8630\n",
            "Epoch 40/100\n",
            "32/32 [==============================] - 0s 3ms/step - loss: 0.3994 - accuracy: 0.8651 - val_loss: 0.3908 - val_accuracy: 0.8539\n",
            "Epoch 41/100\n",
            "32/32 [==============================] - 0s 3ms/step - loss: 0.3818 - accuracy: 0.8826 - val_loss: 0.3857 - val_accuracy: 0.8584\n",
            "Epoch 42/100\n",
            "32/32 [==============================] - 0s 3ms/step - loss: 0.3783 - accuracy: 0.8742 - val_loss: 0.3805 - val_accuracy: 0.8584\n",
            "Epoch 43/100\n",
            "32/32 [==============================] - 0s 3ms/step - loss: 0.4077 - accuracy: 0.8471 - val_loss: 0.3755 - val_accuracy: 0.8676\n",
            "Epoch 44/100\n",
            "32/32 [==============================] - 0s 3ms/step - loss: 0.3650 - accuracy: 0.8872 - val_loss: 0.3713 - val_accuracy: 0.8676\n",
            "Epoch 45/100\n",
            "32/32 [==============================] - 0s 2ms/step - loss: 0.3767 - accuracy: 0.8627 - val_loss: 0.3675 - val_accuracy: 0.8676\n",
            "Epoch 46/100\n",
            "32/32 [==============================] - 0s 3ms/step - loss: 0.3721 - accuracy: 0.8694 - val_loss: 0.3650 - val_accuracy: 0.8630\n",
            "Epoch 47/100\n",
            "32/32 [==============================] - 0s 3ms/step - loss: 0.3848 - accuracy: 0.8533 - val_loss: 0.3601 - val_accuracy: 0.8676\n",
            "Epoch 48/100\n",
            "32/32 [==============================] - 0s 3ms/step - loss: 0.3892 - accuracy: 0.8479 - val_loss: 0.3562 - val_accuracy: 0.8721\n",
            "Epoch 49/100\n",
            "32/32 [==============================] - 0s 3ms/step - loss: 0.3633 - accuracy: 0.8612 - val_loss: 0.3530 - val_accuracy: 0.8721\n",
            "Epoch 50/100\n",
            "32/32 [==============================] - 0s 3ms/step - loss: 0.3455 - accuracy: 0.8833 - val_loss: 0.3505 - val_accuracy: 0.8721\n",
            "Epoch 51/100\n",
            "32/32 [==============================] - 0s 3ms/step - loss: 0.3455 - accuracy: 0.8649 - val_loss: 0.3471 - val_accuracy: 0.8767\n",
            "Epoch 52/100\n",
            "32/32 [==============================] - 0s 3ms/step - loss: 0.3387 - accuracy: 0.8891 - val_loss: 0.3451 - val_accuracy: 0.8721\n",
            "Epoch 53/100\n",
            "32/32 [==============================] - 0s 3ms/step - loss: 0.3432 - accuracy: 0.8636 - val_loss: 0.3421 - val_accuracy: 0.8767\n",
            "Epoch 54/100\n",
            "32/32 [==============================] - 0s 3ms/step - loss: 0.3345 - accuracy: 0.8684 - val_loss: 0.3397 - val_accuracy: 0.8721\n",
            "Epoch 55/100\n",
            "32/32 [==============================] - 0s 3ms/step - loss: 0.3298 - accuracy: 0.8821 - val_loss: 0.3369 - val_accuracy: 0.8767\n",
            "Epoch 56/100\n",
            "32/32 [==============================] - 0s 3ms/step - loss: 0.3315 - accuracy: 0.8786 - val_loss: 0.3347 - val_accuracy: 0.8767\n",
            "Epoch 57/100\n",
            "32/32 [==============================] - 0s 3ms/step - loss: 0.3535 - accuracy: 0.8575 - val_loss: 0.3324 - val_accuracy: 0.8767\n",
            "Epoch 58/100\n",
            "32/32 [==============================] - 0s 3ms/step - loss: 0.3103 - accuracy: 0.8741 - val_loss: 0.3307 - val_accuracy: 0.8767\n",
            "Epoch 59/100\n",
            "32/32 [==============================] - 0s 3ms/step - loss: 0.3198 - accuracy: 0.8756 - val_loss: 0.3285 - val_accuracy: 0.8767\n",
            "Epoch 60/100\n",
            "32/32 [==============================] - 0s 3ms/step - loss: 0.3237 - accuracy: 0.8725 - val_loss: 0.3265 - val_accuracy: 0.8813\n",
            "Epoch 61/100\n",
            "32/32 [==============================] - 0s 3ms/step - loss: 0.3425 - accuracy: 0.8633 - val_loss: 0.3248 - val_accuracy: 0.8813\n",
            "Epoch 62/100\n",
            "32/32 [==============================] - 0s 3ms/step - loss: 0.3143 - accuracy: 0.8822 - val_loss: 0.3230 - val_accuracy: 0.8813\n",
            "Epoch 63/100\n",
            "32/32 [==============================] - 0s 3ms/step - loss: 0.3348 - accuracy: 0.8648 - val_loss: 0.3214 - val_accuracy: 0.8813\n",
            "Epoch 64/100\n",
            "32/32 [==============================] - 0s 3ms/step - loss: 0.3057 - accuracy: 0.8748 - val_loss: 0.3198 - val_accuracy: 0.8813\n",
            "Epoch 65/100\n",
            "32/32 [==============================] - 0s 3ms/step - loss: 0.3152 - accuracy: 0.8734 - val_loss: 0.3183 - val_accuracy: 0.8813\n",
            "Epoch 66/100\n",
            "32/32 [==============================] - 0s 3ms/step - loss: 0.3105 - accuracy: 0.8762 - val_loss: 0.3176 - val_accuracy: 0.8950\n",
            "Epoch 67/100\n",
            "32/32 [==============================] - 0s 2ms/step - loss: 0.3104 - accuracy: 0.8764 - val_loss: 0.3156 - val_accuracy: 0.8858\n",
            "Epoch 68/100\n",
            "32/32 [==============================] - 0s 3ms/step - loss: 0.3216 - accuracy: 0.8665 - val_loss: 0.3144 - val_accuracy: 0.8813\n",
            "Epoch 69/100\n",
            "32/32 [==============================] - 0s 3ms/step - loss: 0.3059 - accuracy: 0.8838 - val_loss: 0.3130 - val_accuracy: 0.8813\n",
            "Epoch 70/100\n",
            "32/32 [==============================] - 0s 3ms/step - loss: 0.3060 - accuracy: 0.8810 - val_loss: 0.3120 - val_accuracy: 0.8813\n",
            "Epoch 71/100\n",
            "32/32 [==============================] - 0s 3ms/step - loss: 0.2980 - accuracy: 0.8754 - val_loss: 0.3107 - val_accuracy: 0.8813\n",
            "Epoch 72/100\n",
            "32/32 [==============================] - 0s 3ms/step - loss: 0.2827 - accuracy: 0.8933 - val_loss: 0.3099 - val_accuracy: 0.8995\n",
            "Epoch 73/100\n",
            "32/32 [==============================] - 0s 3ms/step - loss: 0.2840 - accuracy: 0.8829 - val_loss: 0.3087 - val_accuracy: 0.8995\n",
            "Epoch 74/100\n",
            "32/32 [==============================] - 0s 3ms/step - loss: 0.2949 - accuracy: 0.8748 - val_loss: 0.3082 - val_accuracy: 0.8813\n",
            "Epoch 75/100\n",
            "32/32 [==============================] - 0s 3ms/step - loss: 0.2821 - accuracy: 0.8894 - val_loss: 0.3065 - val_accuracy: 0.8995\n",
            "Epoch 76/100\n",
            "32/32 [==============================] - 0s 3ms/step - loss: 0.2726 - accuracy: 0.8947 - val_loss: 0.3059 - val_accuracy: 0.9041\n",
            "Epoch 77/100\n",
            "32/32 [==============================] - 0s 3ms/step - loss: 0.3030 - accuracy: 0.8766 - val_loss: 0.3049 - val_accuracy: 0.8904\n",
            "Epoch 78/100\n",
            "32/32 [==============================] - 0s 3ms/step - loss: 0.2977 - accuracy: 0.8764 - val_loss: 0.3050 - val_accuracy: 0.8767\n",
            "Epoch 79/100\n",
            "32/32 [==============================] - 0s 3ms/step - loss: 0.3051 - accuracy: 0.8731 - val_loss: 0.3029 - val_accuracy: 0.9041\n",
            "Epoch 80/100\n",
            "32/32 [==============================] - 0s 3ms/step - loss: 0.2831 - accuracy: 0.8855 - val_loss: 0.3020 - val_accuracy: 0.9041\n",
            "Epoch 81/100\n",
            "32/32 [==============================] - 0s 3ms/step - loss: 0.2852 - accuracy: 0.8861 - val_loss: 0.3013 - val_accuracy: 0.8995\n",
            "Epoch 82/100\n",
            "32/32 [==============================] - 0s 3ms/step - loss: 0.2711 - accuracy: 0.9005 - val_loss: 0.3004 - val_accuracy: 0.9041\n",
            "Epoch 83/100\n",
            "32/32 [==============================] - 0s 3ms/step - loss: 0.2803 - accuracy: 0.8891 - val_loss: 0.2997 - val_accuracy: 0.9041\n",
            "Epoch 84/100\n",
            "32/32 [==============================] - 0s 3ms/step - loss: 0.2749 - accuracy: 0.8833 - val_loss: 0.2989 - val_accuracy: 0.9041\n",
            "Epoch 85/100\n",
            "32/32 [==============================] - 0s 2ms/step - loss: 0.2998 - accuracy: 0.8608 - val_loss: 0.2981 - val_accuracy: 0.9041\n",
            "Epoch 86/100\n",
            "32/32 [==============================] - 0s 3ms/step - loss: 0.2867 - accuracy: 0.8778 - val_loss: 0.2974 - val_accuracy: 0.9041\n",
            "Epoch 87/100\n",
            "32/32 [==============================] - 0s 3ms/step - loss: 0.2963 - accuracy: 0.8804 - val_loss: 0.2967 - val_accuracy: 0.9041\n",
            "Epoch 88/100\n",
            "32/32 [==============================] - 0s 3ms/step - loss: 0.2905 - accuracy: 0.8792 - val_loss: 0.2960 - val_accuracy: 0.9041\n",
            "Epoch 89/100\n",
            "32/32 [==============================] - 0s 3ms/step - loss: 0.2805 - accuracy: 0.8834 - val_loss: 0.2959 - val_accuracy: 0.9041\n",
            "Epoch 90/100\n",
            "32/32 [==============================] - 0s 2ms/step - loss: 0.2717 - accuracy: 0.8943 - val_loss: 0.2954 - val_accuracy: 0.9041\n",
            "Epoch 91/100\n",
            "32/32 [==============================] - 0s 3ms/step - loss: 0.2694 - accuracy: 0.8905 - val_loss: 0.2941 - val_accuracy: 0.9087\n",
            "Epoch 92/100\n",
            "32/32 [==============================] - 0s 3ms/step - loss: 0.2627 - accuracy: 0.8895 - val_loss: 0.2935 - val_accuracy: 0.9087\n",
            "Epoch 93/100\n",
            "32/32 [==============================] - 0s 3ms/step - loss: 0.2824 - accuracy: 0.8700 - val_loss: 0.2930 - val_accuracy: 0.9087\n",
            "Epoch 94/100\n",
            "32/32 [==============================] - 0s 2ms/step - loss: 0.2752 - accuracy: 0.8854 - val_loss: 0.2923 - val_accuracy: 0.9087\n",
            "Epoch 95/100\n",
            "32/32 [==============================] - 0s 3ms/step - loss: 0.2674 - accuracy: 0.8843 - val_loss: 0.2918 - val_accuracy: 0.9087\n",
            "Epoch 96/100\n",
            "32/32 [==============================] - 0s 2ms/step - loss: 0.2801 - accuracy: 0.8832 - val_loss: 0.2912 - val_accuracy: 0.9087\n",
            "Epoch 97/100\n",
            "32/32 [==============================] - 0s 3ms/step - loss: 0.2856 - accuracy: 0.8962 - val_loss: 0.2907 - val_accuracy: 0.9087\n",
            "Epoch 98/100\n",
            "32/32 [==============================] - 0s 3ms/step - loss: 0.2826 - accuracy: 0.8794 - val_loss: 0.2901 - val_accuracy: 0.9087\n",
            "Epoch 99/100\n",
            "32/32 [==============================] - 0s 3ms/step - loss: 0.2816 - accuracy: 0.8872 - val_loss: 0.2896 - val_accuracy: 0.9132\n",
            "Epoch 100/100\n",
            "32/32 [==============================] - 0s 3ms/step - loss: 0.2760 - accuracy: 0.8852 - val_loss: 0.2890 - val_accuracy: 0.9087\n"
          ],
          "name": "stdout"
        }
      ]
    },
    {
      "cell_type": "code",
      "metadata": {
        "id": "W7rWkPCuUihA",
        "colab": {
          "base_uri": "https://localhost:8080/"
        },
        "outputId": "c34e4b2a-f0ab-40d8-d977-1ec9eb89e029"
      },
      "source": [
        "# Now, we evaluate our data on the test set\r\n",
        "model.evaluate(X_test, Y_test)[1]"
      ],
      "execution_count": 18,
      "outputs": [
        {
          "output_type": "stream",
          "text": [
            "7/7 [==============================] - 0s 2ms/step - loss: 0.2879 - accuracy: 0.8858\n"
          ],
          "name": "stdout"
        },
        {
          "output_type": "execute_result",
          "data": {
            "text/plain": [
              "0.8858447670936584"
            ]
          },
          "metadata": {
            "tags": []
          },
          "execution_count": 18
        }
      ]
    },
    {
      "cell_type": "markdown",
      "metadata": {
        "id": "CCh5H_p1UihB"
      },
      "source": [
        "# Visualizing Loss and Accuracy"
      ]
    },
    {
      "cell_type": "code",
      "metadata": {
        "id": "C4s9I24KUihB"
      },
      "source": [
        "import matplotlib.pyplot as plt"
      ],
      "execution_count": 19,
      "outputs": []
    },
    {
      "cell_type": "code",
      "metadata": {
        "id": "XICVPVh8UihB",
        "colab": {
          "base_uri": "https://localhost:8080/",
          "height": 295
        },
        "outputId": "b07b2a56-6b45-49b8-fd31-f54655ba0bbf"
      },
      "source": [
        "# Plot the training & validation loss\n",
        "\n",
        "plt.plot(hist.history['loss'])\n",
        "plt.plot(hist.history['val_loss'])\n",
        "plt.title('Model loss')\n",
        "plt.ylabel('Loss')\n",
        "plt.xlabel('Epoch')\n",
        "plt.legend(['Train', 'Val'], loc='upper right')\n",
        "plt.show()"
      ],
      "execution_count": 20,
      "outputs": [
        {
          "output_type": "display_data",
          "data": {
            "image/png": "[encoded data removed]",
            "text/plain": [
              "<Figure size 432x288 with 1 Axes>"
            ]
          },
          "metadata": {
            "tags": [],
            "needs_background": "light"
          }
        }
      ]
    },
    {
      "cell_type": "code",
      "metadata": {
        "id": "6PJrfMBmUihC",
        "colab": {
          "base_uri": "https://localhost:8080/",
          "height": 295
        },
        "outputId": "b86746da-c88e-48fa-8c93-8c00130e902d"
      },
      "source": [
        "# Plot the training & validation accuracy\n",
        "\n",
        "plt.plot(hist.history['accuracy'])\n",
        "plt.plot(hist.history['val_accuracy'])\n",
        "plt.title('Model accuracy')\n",
        "plt.ylabel('Accuracy')\n",
        "plt.xlabel('Epoch')\n",
        "plt.legend(['Train', 'Val'], loc='lower right')\n",
        "plt.show()"
      ],
      "execution_count": 21,
      "outputs": [
        {
          "output_type": "display_data",
          "data": {
            "image/png": "[encoded data removed]",
            "text/plain": [
              "<Figure size 432x288 with 1 Axes>"
            ]
          },
          "metadata": {
            "tags": [],
            "needs_background": "light"
          }
        }
      ]
    },
    {
      "cell_type": "markdown",
      "metadata": {
        "id": "oCyReF2RUihC"
      },
      "source": [
        "# Adding Regularization to our Neural Network"
      ]
    },
    {
      "cell_type": "markdown",
      "metadata": {
        "id": "PxqwqYqnUihC"
      },
      "source": [
        "We'll train a model which will overfit (called Model 2)."
      ]
    },
    {
      "cell_type": "code",
      "metadata": {
        "id": "elh7RKIwUihC",
        "colab": {
          "base_uri": "https://localhost:8080/"
        },
        "outputId": "d24e6f61-28bb-4676-ebf6-51b357e2053a"
      },
      "source": [
        "model_2 = Sequential([\n",
        "    Dense(1000, activation='relu', input_shape=(10,)),\n",
        "    Dense(1000, activation='relu'),\n",
        "    Dense(1000, activation='relu'),\n",
        "    Dense(1000, activation='relu'),\n",
        "    Dense(1, activation='sigmoid'),\n",
        "])\n",
        "model_2.compile(optimizer='adam',\n",
        "              loss='binary_crossentropy',\n",
        "              metrics=['accuracy'])\n",
        "hist_2 = model_2.fit(X_train, Y_train,\n",
        "          batch_size=32, epochs=100,\n",
        "          validation_data=(X_val, Y_val))"
      ],
      "execution_count": 22,
      "outputs": [
        {
          "output_type": "stream",
          "text": [
            "Epoch 1/100\n",
            "32/32 [==============================] - 2s 46ms/step - loss: 0.5749 - accuracy: 0.6915 - val_loss: 0.3715 - val_accuracy: 0.8858\n",
            "Epoch 2/100\n",
            "32/32 [==============================] - 1s 38ms/step - loss: 0.3512 - accuracy: 0.8517 - val_loss: 0.3146 - val_accuracy: 0.8721\n",
            "Epoch 3/100\n",
            "32/32 [==============================] - 1s 39ms/step - loss: 0.3098 - accuracy: 0.8716 - val_loss: 0.3022 - val_accuracy: 0.8950\n",
            "Epoch 4/100\n",
            "32/32 [==============================] - 1s 37ms/step - loss: 0.3114 - accuracy: 0.8686 - val_loss: 0.3017 - val_accuracy: 0.8950\n",
            "Epoch 5/100\n",
            "32/32 [==============================] - 1s 38ms/step - loss: 0.2691 - accuracy: 0.8822 - val_loss: 0.3252 - val_accuracy: 0.8630\n",
            "Epoch 6/100\n",
            "32/32 [==============================] - 1s 38ms/step - loss: 0.2766 - accuracy: 0.8643 - val_loss: 0.3122 - val_accuracy: 0.9178\n",
            "Epoch 7/100\n",
            "32/32 [==============================] - 1s 38ms/step - loss: 0.2787 - accuracy: 0.8788 - val_loss: 0.3096 - val_accuracy: 0.8721\n",
            "Epoch 8/100\n",
            "32/32 [==============================] - 1s 37ms/step - loss: 0.2561 - accuracy: 0.8836 - val_loss: 0.3132 - val_accuracy: 0.8995\n",
            "Epoch 9/100\n",
            "32/32 [==============================] - 1s 37ms/step - loss: 0.2292 - accuracy: 0.8876 - val_loss: 0.3070 - val_accuracy: 0.8995\n",
            "Epoch 10/100\n",
            "32/32 [==============================] - 1s 37ms/step - loss: 0.2404 - accuracy: 0.8867 - val_loss: 0.3160 - val_accuracy: 0.9361\n",
            "Epoch 11/100\n",
            "32/32 [==============================] - 1s 37ms/step - loss: 0.2505 - accuracy: 0.8959 - val_loss: 0.3272 - val_accuracy: 0.8995\n",
            "Epoch 12/100\n",
            "32/32 [==============================] - 1s 38ms/step - loss: 0.2093 - accuracy: 0.9084 - val_loss: 0.3048 - val_accuracy: 0.9041\n",
            "Epoch 13/100\n",
            "32/32 [==============================] - 1s 37ms/step - loss: 0.2017 - accuracy: 0.9062 - val_loss: 0.3171 - val_accuracy: 0.8904\n",
            "Epoch 14/100\n",
            "32/32 [==============================] - 1s 37ms/step - loss: 0.1951 - accuracy: 0.9219 - val_loss: 0.3055 - val_accuracy: 0.9361\n",
            "Epoch 15/100\n",
            "32/32 [==============================] - 1s 39ms/step - loss: 0.2264 - accuracy: 0.9045 - val_loss: 0.3120 - val_accuracy: 0.9178\n",
            "Epoch 16/100\n",
            "32/32 [==============================] - 1s 39ms/step - loss: 0.2443 - accuracy: 0.8946 - val_loss: 0.3320 - val_accuracy: 0.9224\n",
            "Epoch 17/100\n",
            "32/32 [==============================] - 1s 40ms/step - loss: 0.1783 - accuracy: 0.9256 - val_loss: 0.3105 - val_accuracy: 0.9361\n",
            "Epoch 18/100\n",
            "32/32 [==============================] - 1s 38ms/step - loss: 0.1970 - accuracy: 0.9337 - val_loss: 0.3171 - val_accuracy: 0.9269\n",
            "Epoch 19/100\n",
            "32/32 [==============================] - 1s 39ms/step - loss: 0.2259 - accuracy: 0.9104 - val_loss: 0.3519 - val_accuracy: 0.9041\n",
            "Epoch 20/100\n",
            "32/32 [==============================] - 1s 39ms/step - loss: 0.2110 - accuracy: 0.9097 - val_loss: 0.3365 - val_accuracy: 0.8813\n",
            "Epoch 21/100\n",
            "32/32 [==============================] - 1s 39ms/step - loss: 0.2171 - accuracy: 0.9123 - val_loss: 0.3507 - val_accuracy: 0.9087\n",
            "Epoch 22/100\n",
            "32/32 [==============================] - 1s 39ms/step - loss: 0.1881 - accuracy: 0.9289 - val_loss: 0.3352 - val_accuracy: 0.8995\n",
            "Epoch 23/100\n",
            "32/32 [==============================] - 1s 38ms/step - loss: 0.1772 - accuracy: 0.9370 - val_loss: 0.3425 - val_accuracy: 0.8995\n",
            "Epoch 24/100\n",
            "32/32 [==============================] - 1s 41ms/step - loss: 0.1876 - accuracy: 0.9176 - val_loss: 0.3563 - val_accuracy: 0.8539\n",
            "Epoch 25/100\n",
            "32/32 [==============================] - 1s 41ms/step - loss: 0.2200 - accuracy: 0.9174 - val_loss: 0.3313 - val_accuracy: 0.9224\n",
            "Epoch 26/100\n",
            "32/32 [==============================] - 1s 39ms/step - loss: 0.1856 - accuracy: 0.9215 - val_loss: 0.4171 - val_accuracy: 0.8813\n",
            "Epoch 27/100\n",
            "32/32 [==============================] - 2s 53ms/step - loss: 0.2172 - accuracy: 0.9040 - val_loss: 0.3764 - val_accuracy: 0.9269\n",
            "Epoch 28/100\n",
            "32/32 [==============================] - 2s 49ms/step - loss: 0.2213 - accuracy: 0.9048 - val_loss: 0.3294 - val_accuracy: 0.9269\n",
            "Epoch 29/100\n",
            "32/32 [==============================] - 1s 43ms/step - loss: 0.1955 - accuracy: 0.9198 - val_loss: 0.4101 - val_accuracy: 0.8950\n",
            "Epoch 30/100\n",
            "32/32 [==============================] - 1s 43ms/step - loss: 0.2003 - accuracy: 0.9150 - val_loss: 0.3776 - val_accuracy: 0.8858\n",
            "Epoch 31/100\n",
            "32/32 [==============================] - 1s 38ms/step - loss: 0.1771 - accuracy: 0.9259 - val_loss: 0.3778 - val_accuracy: 0.8995\n",
            "Epoch 32/100\n",
            "32/32 [==============================] - 1s 41ms/step - loss: 0.1890 - accuracy: 0.9238 - val_loss: 0.3667 - val_accuracy: 0.9087\n",
            "Epoch 33/100\n",
            "32/32 [==============================] - 1s 37ms/step - loss: 0.2097 - accuracy: 0.9054 - val_loss: 0.3539 - val_accuracy: 0.9087\n",
            "Epoch 34/100\n",
            "32/32 [==============================] - 1s 37ms/step - loss: 0.1675 - accuracy: 0.9252 - val_loss: 0.3560 - val_accuracy: 0.9041\n",
            "Epoch 35/100\n",
            "32/32 [==============================] - 1s 40ms/step - loss: 0.2035 - accuracy: 0.9003 - val_loss: 0.3623 - val_accuracy: 0.9041\n",
            "Epoch 36/100\n",
            "32/32 [==============================] - 1s 36ms/step - loss: 0.1663 - accuracy: 0.9357 - val_loss: 0.3470 - val_accuracy: 0.8858\n",
            "Epoch 37/100\n",
            "32/32 [==============================] - 1s 37ms/step - loss: 0.2247 - accuracy: 0.9175 - val_loss: 0.3971 - val_accuracy: 0.9178\n",
            "Epoch 38/100\n",
            "32/32 [==============================] - 1s 36ms/step - loss: 0.1748 - accuracy: 0.9284 - val_loss: 0.3930 - val_accuracy: 0.8995\n",
            "Epoch 39/100\n",
            "32/32 [==============================] - 1s 38ms/step - loss: 0.1694 - accuracy: 0.9292 - val_loss: 0.3747 - val_accuracy: 0.8995\n",
            "Epoch 40/100\n",
            "32/32 [==============================] - 1s 41ms/step - loss: 0.1765 - accuracy: 0.9200 - val_loss: 0.4022 - val_accuracy: 0.8584\n",
            "Epoch 41/100\n",
            "32/32 [==============================] - 1s 37ms/step - loss: 0.1826 - accuracy: 0.9096 - val_loss: 0.3830 - val_accuracy: 0.9178\n",
            "Epoch 42/100\n",
            "32/32 [==============================] - 1s 37ms/step - loss: 0.1564 - accuracy: 0.9325 - val_loss: 0.3328 - val_accuracy: 0.8767\n",
            "Epoch 43/100\n",
            "32/32 [==============================] - 1s 38ms/step - loss: 0.1857 - accuracy: 0.9176 - val_loss: 0.3740 - val_accuracy: 0.8950\n",
            "Epoch 44/100\n",
            "32/32 [==============================] - 1s 38ms/step - loss: 0.2207 - accuracy: 0.8980 - val_loss: 0.3459 - val_accuracy: 0.8721\n",
            "Epoch 45/100\n",
            "32/32 [==============================] - 1s 38ms/step - loss: 0.1943 - accuracy: 0.9291 - val_loss: 0.4705 - val_accuracy: 0.8904\n",
            "Epoch 46/100\n",
            "32/32 [==============================] - 1s 38ms/step - loss: 0.1672 - accuracy: 0.9335 - val_loss: 0.3437 - val_accuracy: 0.9132\n",
            "Epoch 47/100\n",
            "32/32 [==============================] - 1s 42ms/step - loss: 0.1925 - accuracy: 0.9312 - val_loss: 0.3992 - val_accuracy: 0.9087\n",
            "Epoch 48/100\n",
            "32/32 [==============================] - 1s 39ms/step - loss: 0.1605 - accuracy: 0.9274 - val_loss: 0.3474 - val_accuracy: 0.8950\n",
            "Epoch 49/100\n",
            "32/32 [==============================] - 1s 38ms/step - loss: 0.1866 - accuracy: 0.9192 - val_loss: 0.3913 - val_accuracy: 0.8676\n",
            "Epoch 50/100\n",
            "32/32 [==============================] - 1s 38ms/step - loss: 0.1547 - accuracy: 0.9329 - val_loss: 0.3515 - val_accuracy: 0.9041\n",
            "Epoch 51/100\n",
            "32/32 [==============================] - 1s 38ms/step - loss: 0.1602 - accuracy: 0.9266 - val_loss: 0.3929 - val_accuracy: 0.9041\n",
            "Epoch 52/100\n",
            "32/32 [==============================] - 1s 38ms/step - loss: 0.1468 - accuracy: 0.9287 - val_loss: 0.3843 - val_accuracy: 0.9087\n",
            "Epoch 53/100\n",
            "32/32 [==============================] - 1s 37ms/step - loss: 0.1559 - accuracy: 0.9389 - val_loss: 0.4038 - val_accuracy: 0.8995\n",
            "Epoch 54/100\n",
            "32/32 [==============================] - 1s 37ms/step - loss: 0.1641 - accuracy: 0.9387 - val_loss: 0.4665 - val_accuracy: 0.8858\n",
            "Epoch 55/100\n",
            "32/32 [==============================] - 1s 37ms/step - loss: 0.1805 - accuracy: 0.9205 - val_loss: 0.4575 - val_accuracy: 0.8676\n",
            "Epoch 56/100\n",
            "32/32 [==============================] - 1s 38ms/step - loss: 0.1535 - accuracy: 0.9337 - val_loss: 0.3836 - val_accuracy: 0.8813\n",
            "Epoch 57/100\n",
            "32/32 [==============================] - 1s 41ms/step - loss: 0.1317 - accuracy: 0.9435 - val_loss: 0.4028 - val_accuracy: 0.9041\n",
            "Epoch 58/100\n",
            "32/32 [==============================] - 1s 37ms/step - loss: 0.1539 - accuracy: 0.9337 - val_loss: 0.4962 - val_accuracy: 0.8995\n",
            "Epoch 59/100\n",
            "32/32 [==============================] - 1s 38ms/step - loss: 0.1424 - accuracy: 0.9445 - val_loss: 0.3718 - val_accuracy: 0.8950\n",
            "Epoch 60/100\n",
            "32/32 [==============================] - 1s 37ms/step - loss: 0.1227 - accuracy: 0.9536 - val_loss: 0.3662 - val_accuracy: 0.8904\n",
            "Epoch 61/100\n",
            "32/32 [==============================] - 1s 36ms/step - loss: 0.1600 - accuracy: 0.9339 - val_loss: 0.3945 - val_accuracy: 0.8676\n",
            "Epoch 62/100\n",
            "32/32 [==============================] - 1s 37ms/step - loss: 0.1519 - accuracy: 0.9442 - val_loss: 0.4224 - val_accuracy: 0.8950\n",
            "Epoch 63/100\n",
            "32/32 [==============================] - 1s 37ms/step - loss: 0.1492 - accuracy: 0.9354 - val_loss: 0.4061 - val_accuracy: 0.8950\n",
            "Epoch 64/100\n",
            "32/32 [==============================] - 1s 39ms/step - loss: 0.1304 - accuracy: 0.9460 - val_loss: 0.4381 - val_accuracy: 0.8995\n",
            "Epoch 65/100\n",
            "32/32 [==============================] - 1s 38ms/step - loss: 0.1676 - accuracy: 0.9334 - val_loss: 0.4668 - val_accuracy: 0.8950\n",
            "Epoch 66/100\n",
            "32/32 [==============================] - 1s 37ms/step - loss: 0.1863 - accuracy: 0.9203 - val_loss: 0.4565 - val_accuracy: 0.8858\n",
            "Epoch 67/100\n",
            "32/32 [==============================] - 1s 37ms/step - loss: 0.1772 - accuracy: 0.9406 - val_loss: 0.4662 - val_accuracy: 0.9041\n",
            "Epoch 68/100\n",
            "32/32 [==============================] - 1s 38ms/step - loss: 0.1328 - accuracy: 0.9452 - val_loss: 0.5000 - val_accuracy: 0.8950\n",
            "Epoch 69/100\n",
            "32/32 [==============================] - 1s 37ms/step - loss: 0.1241 - accuracy: 0.9499 - val_loss: 0.5877 - val_accuracy: 0.8584\n",
            "Epoch 70/100\n",
            "32/32 [==============================] - 1s 39ms/step - loss: 0.2385 - accuracy: 0.9000 - val_loss: 0.3960 - val_accuracy: 0.8950\n",
            "Epoch 71/100\n",
            "32/32 [==============================] - 1s 38ms/step - loss: 0.1537 - accuracy: 0.9401 - val_loss: 0.4389 - val_accuracy: 0.8813\n",
            "Epoch 72/100\n",
            "32/32 [==============================] - 1s 41ms/step - loss: 0.1154 - accuracy: 0.9504 - val_loss: 0.3881 - val_accuracy: 0.9087\n",
            "Epoch 73/100\n",
            "32/32 [==============================] - 1s 39ms/step - loss: 0.1303 - accuracy: 0.9523 - val_loss: 0.4235 - val_accuracy: 0.8995\n",
            "Epoch 74/100\n",
            "32/32 [==============================] - 1s 38ms/step - loss: 0.0956 - accuracy: 0.9728 - val_loss: 0.4467 - val_accuracy: 0.8858\n",
            "Epoch 75/100\n",
            "32/32 [==============================] - 1s 38ms/step - loss: 0.1186 - accuracy: 0.9492 - val_loss: 0.3885 - val_accuracy: 0.8813\n",
            "Epoch 76/100\n",
            "32/32 [==============================] - 1s 38ms/step - loss: 0.1417 - accuracy: 0.9403 - val_loss: 0.5287 - val_accuracy: 0.8767\n",
            "Epoch 77/100\n",
            "32/32 [==============================] - 1s 38ms/step - loss: 0.1170 - accuracy: 0.9527 - val_loss: 0.4957 - val_accuracy: 0.8721\n",
            "Epoch 78/100\n",
            "32/32 [==============================] - 1s 38ms/step - loss: 0.1267 - accuracy: 0.9509 - val_loss: 0.4942 - val_accuracy: 0.8904\n",
            "Epoch 79/100\n",
            "32/32 [==============================] - 1s 38ms/step - loss: 0.1197 - accuracy: 0.9446 - val_loss: 0.4957 - val_accuracy: 0.8858\n",
            "Epoch 80/100\n",
            "32/32 [==============================] - 1s 39ms/step - loss: 0.1109 - accuracy: 0.9581 - val_loss: 0.6045 - val_accuracy: 0.8630\n",
            "Epoch 81/100\n",
            "32/32 [==============================] - 1s 38ms/step - loss: 0.1225 - accuracy: 0.9520 - val_loss: 0.4908 - val_accuracy: 0.8858\n",
            "Epoch 82/100\n",
            "32/32 [==============================] - 1s 38ms/step - loss: 0.1363 - accuracy: 0.9457 - val_loss: 0.4682 - val_accuracy: 0.8813\n",
            "Epoch 83/100\n",
            "32/32 [==============================] - 1s 38ms/step - loss: 0.1347 - accuracy: 0.9378 - val_loss: 0.4035 - val_accuracy: 0.8630\n",
            "Epoch 84/100\n",
            "32/32 [==============================] - 1s 37ms/step - loss: 0.1834 - accuracy: 0.9198 - val_loss: 0.4500 - val_accuracy: 0.8950\n",
            "Epoch 85/100\n",
            "32/32 [==============================] - 1s 38ms/step - loss: 0.1361 - accuracy: 0.9350 - val_loss: 0.5025 - val_accuracy: 0.8813\n",
            "Epoch 86/100\n",
            "32/32 [==============================] - 1s 38ms/step - loss: 0.1048 - accuracy: 0.9578 - val_loss: 0.4797 - val_accuracy: 0.8676\n",
            "Epoch 87/100\n",
            "32/32 [==============================] - 1s 37ms/step - loss: 0.0962 - accuracy: 0.9642 - val_loss: 0.4549 - val_accuracy: 0.9132\n",
            "Epoch 88/100\n",
            "32/32 [==============================] - 1s 38ms/step - loss: 0.0985 - accuracy: 0.9492 - val_loss: 0.5112 - val_accuracy: 0.8813\n",
            "Epoch 89/100\n",
            "32/32 [==============================] - 1s 38ms/step - loss: 0.1041 - accuracy: 0.9488 - val_loss: 0.5104 - val_accuracy: 0.8858\n",
            "Epoch 90/100\n",
            "32/32 [==============================] - 1s 39ms/step - loss: 0.1055 - accuracy: 0.9512 - val_loss: 0.5271 - val_accuracy: 0.8858\n",
            "Epoch 91/100\n",
            "32/32 [==============================] - 1s 37ms/step - loss: 0.1119 - accuracy: 0.9423 - val_loss: 0.5032 - val_accuracy: 0.8950\n",
            "Epoch 92/100\n",
            "32/32 [==============================] - 1s 38ms/step - loss: 0.1142 - accuracy: 0.9477 - val_loss: 0.5114 - val_accuracy: 0.8813\n",
            "Epoch 93/100\n",
            "32/32 [==============================] - 1s 38ms/step - loss: 0.0829 - accuracy: 0.9653 - val_loss: 0.5891 - val_accuracy: 0.8950\n",
            "Epoch 94/100\n",
            "32/32 [==============================] - 1s 37ms/step - loss: 0.1208 - accuracy: 0.9541 - val_loss: 0.6198 - val_accuracy: 0.8950\n",
            "Epoch 95/100\n",
            "32/32 [==============================] - 1s 41ms/step - loss: 0.1068 - accuracy: 0.9590 - val_loss: 0.4855 - val_accuracy: 0.8904\n",
            "Epoch 96/100\n",
            "32/32 [==============================] - 1s 38ms/step - loss: 0.1149 - accuracy: 0.9496 - val_loss: 0.5980 - val_accuracy: 0.9087\n",
            "Epoch 97/100\n",
            "32/32 [==============================] - 1s 38ms/step - loss: 0.1208 - accuracy: 0.9456 - val_loss: 0.6851 - val_accuracy: 0.8950\n",
            "Epoch 98/100\n",
            "32/32 [==============================] - 1s 38ms/step - loss: 0.1026 - accuracy: 0.9563 - val_loss: 0.6589 - val_accuracy: 0.9087\n",
            "Epoch 99/100\n",
            "32/32 [==============================] - 1s 37ms/step - loss: 0.1406 - accuracy: 0.9411 - val_loss: 0.5952 - val_accuracy: 0.8950\n",
            "Epoch 100/100\n",
            "32/32 [==============================] - 1s 38ms/step - loss: 0.1567 - accuracy: 0.9361 - val_loss: 0.4808 - val_accuracy: 0.8904\n"
          ],
          "name": "stdout"
        }
      ]
    },
    {
      "cell_type": "code",
      "metadata": {
        "id": "GCanNNglUihD",
        "colab": {
          "base_uri": "https://localhost:8080/",
          "height": 295
        },
        "outputId": "9dd0101e-44c3-4155-fbcd-e45460f84f0c"
      },
      "source": [
        "plt.plot(hist_2.history['loss'])\n",
        "plt.plot(hist_2.history['val_loss'])\n",
        "plt.title('Model loss')\n",
        "plt.ylabel('Loss')\n",
        "plt.xlabel('Epoch')\n",
        "plt.legend(['Train', 'Val'], loc='upper right')\n",
        "plt.show()"
      ],
      "execution_count": 23,
      "outputs": [
        {
          "output_type": "display_data",
          "data": {
            "image/png": "[encoded data removed]",
            "text/plain": [
              "<Figure size 432x288 with 1 Axes>"
            ]
          },
          "metadata": {
            "tags": [],
            "needs_background": "light"
          }
        }
      ]
    },
    {
      "cell_type": "code",
      "metadata": {
        "id": "Zs9sr21sUihD",
        "colab": {
          "base_uri": "https://localhost:8080/",
          "height": 295
        },
        "outputId": "9c040169-6230-453d-df05-702f09b7f3da"
      },
      "source": [
        "plt.plot(hist_2.history['accuracy'])\n",
        "plt.plot(hist_2.history['val_accuracy'])\n",
        "plt.title('Model accuracy')\n",
        "plt.ylabel('Accuracy')\n",
        "plt.xlabel('Epoch')\n",
        "plt.legend(['Train', 'Val'], loc='lower right')\n",
        "plt.show()"
      ],
      "execution_count": 24,
      "outputs": [
        {
          "output_type": "display_data",
          "data": {
            "image/png": "[encoded data removed]",
            "text/plain": [
              "<Figure size 432x288 with 1 Axes>"
            ]
          },
          "metadata": {
            "tags": [],
            "needs_background": "light"
          }
        }
      ]
    },
    {
      "cell_type": "markdown",
      "metadata": {
        "id": "jDLPzgoZUihE"
      },
      "source": [
        "To address the overfitting we see in Model 2, we'll incorporate L2 regularization and dropout in our third model here (Model 3)."
      ]
    },
    {
      "cell_type": "code",
      "metadata": {
        "id": "7ba0snHTUihE"
      },
      "source": [
        "from keras.layers import Dropout\n",
        "from keras import regularizers"
      ],
      "execution_count": 25,
      "outputs": []
    },
    {
      "cell_type": "code",
      "metadata": {
        "id": "mzbrddUyUihE"
      },
      "source": [
        "model_3 = Sequential([\n",
        "    Dense(1000, activation='relu', kernel_regularizer=regularizers.l2(0.01), input_shape=(10,)),\n",
        "    Dropout(0.3),\n",
        "    Dense(1000, activation='relu', kernel_regularizer=regularizers.l2(0.01)),\n",
        "    Dropout(0.3),\n",
        "    Dense(1000, activation='relu', kernel_regularizer=regularizers.l2(0.01)),\n",
        "    Dropout(0.3),\n",
        "    Dense(1000, activation='relu', kernel_regularizer=regularizers.l2(0.01)),\n",
        "    Dropout(0.3),\n",
        "    Dense(1, activation='sigmoid', kernel_regularizer=regularizers.l2(0.01)),\n",
        "])"
      ],
      "execution_count": 26,
      "outputs": []
    },
    {
      "cell_type": "code",
      "metadata": {
        "id": "cOS8TrBFUihE",
        "colab": {
          "base_uri": "https://localhost:8080/"
        },
        "outputId": "7119f8c1-2aef-4940-f402-cbe8f1fb95e1"
      },
      "source": [
        "model_3.compile(optimizer='adam',\n",
        "              loss='binary_crossentropy',\n",
        "              metrics=['accuracy'])\n",
        "hist_3 = model_3.fit(X_train, Y_train,\n",
        "          batch_size=32, epochs=100,\n",
        "          validation_data=(X_val, Y_val))"
      ],
      "execution_count": 27,
      "outputs": [
        {
          "output_type": "stream",
          "text": [
            "Epoch 1/100\n",
            "32/32 [==============================] - 3s 54ms/step - loss: 21.1276 - accuracy: 0.5889 - val_loss: 3.8631 - val_accuracy: 0.8219\n",
            "Epoch 2/100\n",
            "32/32 [==============================] - 2s 48ms/step - loss: 2.4869 - accuracy: 0.8219 - val_loss: 0.7027 - val_accuracy: 0.8950\n",
            "Epoch 3/100\n",
            "32/32 [==============================] - 2s 49ms/step - loss: 0.6250 - accuracy: 0.8573 - val_loss: 0.5299 - val_accuracy: 0.8584\n",
            "Epoch 4/100\n",
            "32/32 [==============================] - 2s 48ms/step - loss: 0.5168 - accuracy: 0.8655 - val_loss: 0.4863 - val_accuracy: 0.9132\n",
            "Epoch 5/100\n",
            "32/32 [==============================] - 2s 48ms/step - loss: 0.5299 - accuracy: 0.8458 - val_loss: 0.4753 - val_accuracy: 0.9087\n",
            "Epoch 6/100\n",
            "32/32 [==============================] - 2s 48ms/step - loss: 0.4898 - accuracy: 0.8806 - val_loss: 0.4903 - val_accuracy: 0.8676\n",
            "Epoch 7/100\n",
            "32/32 [==============================] - 2s 49ms/step - loss: 0.4695 - accuracy: 0.8718 - val_loss: 0.4653 - val_accuracy: 0.9178\n",
            "Epoch 8/100\n",
            "32/32 [==============================] - 2s 48ms/step - loss: 0.4672 - accuracy: 0.8833 - val_loss: 0.4520 - val_accuracy: 0.9178\n",
            "Epoch 9/100\n",
            "32/32 [==============================] - 2s 48ms/step - loss: 0.4657 - accuracy: 0.8827 - val_loss: 0.4581 - val_accuracy: 0.9315\n",
            "Epoch 10/100\n",
            "32/32 [==============================] - 2s 51ms/step - loss: 0.4729 - accuracy: 0.8882 - val_loss: 0.4822 - val_accuracy: 0.8813\n",
            "Epoch 11/100\n",
            "32/32 [==============================] - 2s 48ms/step - loss: 0.4727 - accuracy: 0.8716 - val_loss: 0.4468 - val_accuracy: 0.8904\n",
            "Epoch 12/100\n",
            "32/32 [==============================] - 2s 48ms/step - loss: 0.4819 - accuracy: 0.8666 - val_loss: 0.4391 - val_accuracy: 0.9132\n",
            "Epoch 13/100\n",
            "32/32 [==============================] - 2s 48ms/step - loss: 0.4428 - accuracy: 0.8819 - val_loss: 0.4359 - val_accuracy: 0.9315\n",
            "Epoch 14/100\n",
            "32/32 [==============================] - 2s 47ms/step - loss: 0.4630 - accuracy: 0.8811 - val_loss: 0.5119 - val_accuracy: 0.8584\n",
            "Epoch 15/100\n",
            "32/32 [==============================] - 2s 47ms/step - loss: 0.4416 - accuracy: 0.8857 - val_loss: 0.4522 - val_accuracy: 0.8858\n",
            "Epoch 16/100\n",
            "32/32 [==============================] - 2s 48ms/step - loss: 0.4630 - accuracy: 0.8714 - val_loss: 0.4600 - val_accuracy: 0.8676\n",
            "Epoch 17/100\n",
            "32/32 [==============================] - 2s 48ms/step - loss: 0.4712 - accuracy: 0.8698 - val_loss: 0.4296 - val_accuracy: 0.9132\n",
            "Epoch 18/100\n",
            "32/32 [==============================] - 2s 47ms/step - loss: 0.4534 - accuracy: 0.8815 - val_loss: 0.4365 - val_accuracy: 0.8995\n",
            "Epoch 19/100\n",
            "32/32 [==============================] - 2s 48ms/step - loss: 0.4378 - accuracy: 0.8881 - val_loss: 0.4337 - val_accuracy: 0.8995\n",
            "Epoch 20/100\n",
            "32/32 [==============================] - 2s 50ms/step - loss: 0.4219 - accuracy: 0.8956 - val_loss: 0.5229 - val_accuracy: 0.8447\n",
            "Epoch 21/100\n",
            "32/32 [==============================] - 2s 48ms/step - loss: 0.4686 - accuracy: 0.8677 - val_loss: 0.4285 - val_accuracy: 0.8995\n",
            "Epoch 22/100\n",
            "32/32 [==============================] - 2s 51ms/step - loss: 0.4183 - accuracy: 0.8983 - val_loss: 0.4407 - val_accuracy: 0.9224\n",
            "Epoch 23/100\n",
            "32/32 [==============================] - 2s 49ms/step - loss: 0.4288 - accuracy: 0.8751 - val_loss: 0.4362 - val_accuracy: 0.8904\n",
            "Epoch 24/100\n",
            "32/32 [==============================] - 2s 49ms/step - loss: 0.4385 - accuracy: 0.8773 - val_loss: 0.4338 - val_accuracy: 0.8950\n",
            "Epoch 25/100\n",
            "32/32 [==============================] - 2s 48ms/step - loss: 0.4418 - accuracy: 0.8674 - val_loss: 0.4317 - val_accuracy: 0.9224\n",
            "Epoch 26/100\n",
            "32/32 [==============================] - 2s 48ms/step - loss: 0.4414 - accuracy: 0.8771 - val_loss: 0.4262 - val_accuracy: 0.9041\n",
            "Epoch 27/100\n",
            "32/32 [==============================] - 2s 48ms/step - loss: 0.4653 - accuracy: 0.8779 - val_loss: 0.4189 - val_accuracy: 0.9178\n",
            "Epoch 28/100\n",
            "32/32 [==============================] - 2s 48ms/step - loss: 0.4486 - accuracy: 0.8690 - val_loss: 0.4539 - val_accuracy: 0.9087\n",
            "Epoch 29/100\n",
            "32/32 [==============================] - 2s 48ms/step - loss: 0.4462 - accuracy: 0.8787 - val_loss: 0.4536 - val_accuracy: 0.8721\n",
            "Epoch 30/100\n",
            "32/32 [==============================] - 2s 49ms/step - loss: 0.4484 - accuracy: 0.8720 - val_loss: 0.4275 - val_accuracy: 0.9178\n",
            "Epoch 31/100\n",
            "32/32 [==============================] - 2s 47ms/step - loss: 0.4288 - accuracy: 0.8925 - val_loss: 0.4366 - val_accuracy: 0.8904\n",
            "Epoch 32/100\n",
            "32/32 [==============================] - 2s 49ms/step - loss: 0.4423 - accuracy: 0.8824 - val_loss: 0.4391 - val_accuracy: 0.9269\n",
            "Epoch 33/100\n",
            "32/32 [==============================] - 2s 50ms/step - loss: 0.4412 - accuracy: 0.8832 - val_loss: 0.4197 - val_accuracy: 0.9178\n",
            "Epoch 34/100\n",
            "32/32 [==============================] - 2s 49ms/step - loss: 0.4446 - accuracy: 0.8865 - val_loss: 0.4636 - val_accuracy: 0.8721\n",
            "Epoch 35/100\n",
            "32/32 [==============================] - 2s 49ms/step - loss: 0.4394 - accuracy: 0.8808 - val_loss: 0.4313 - val_accuracy: 0.9224\n",
            "Epoch 36/100\n",
            "32/32 [==============================] - 2s 48ms/step - loss: 0.4295 - accuracy: 0.8757 - val_loss: 0.4687 - val_accuracy: 0.8721\n",
            "Epoch 37/100\n",
            "32/32 [==============================] - 2s 49ms/step - loss: 0.4417 - accuracy: 0.8774 - val_loss: 0.4466 - val_accuracy: 0.8813\n",
            "Epoch 38/100\n",
            "32/32 [==============================] - 2s 48ms/step - loss: 0.4610 - accuracy: 0.8769 - val_loss: 0.4402 - val_accuracy: 0.8904\n",
            "Epoch 39/100\n",
            "32/32 [==============================] - 2s 49ms/step - loss: 0.4642 - accuracy: 0.8554 - val_loss: 0.4171 - val_accuracy: 0.9224\n",
            "Epoch 40/100\n",
            "32/32 [==============================] - 2s 49ms/step - loss: 0.4377 - accuracy: 0.8766 - val_loss: 0.4579 - val_accuracy: 0.8721\n",
            "Epoch 41/100\n",
            "32/32 [==============================] - 2s 49ms/step - loss: 0.4424 - accuracy: 0.8773 - val_loss: 0.4210 - val_accuracy: 0.9224\n",
            "Epoch 42/100\n",
            "32/32 [==============================] - 2s 47ms/step - loss: 0.4414 - accuracy: 0.8762 - val_loss: 0.4164 - val_accuracy: 0.9224\n",
            "Epoch 43/100\n",
            "32/32 [==============================] - 2s 49ms/step - loss: 0.4384 - accuracy: 0.8721 - val_loss: 0.4319 - val_accuracy: 0.9224\n",
            "Epoch 44/100\n",
            "32/32 [==============================] - 2s 49ms/step - loss: 0.4223 - accuracy: 0.8869 - val_loss: 0.4255 - val_accuracy: 0.8995\n",
            "Epoch 45/100\n",
            "32/32 [==============================] - 2s 49ms/step - loss: 0.4443 - accuracy: 0.8714 - val_loss: 0.4397 - val_accuracy: 0.8904\n",
            "Epoch 46/100\n",
            "32/32 [==============================] - 2s 48ms/step - loss: 0.4494 - accuracy: 0.8718 - val_loss: 0.4511 - val_accuracy: 0.8858\n",
            "Epoch 47/100\n",
            "32/32 [==============================] - 2s 48ms/step - loss: 0.4225 - accuracy: 0.8913 - val_loss: 0.4224 - val_accuracy: 0.9041\n",
            "Epoch 48/100\n",
            "32/32 [==============================] - 2s 49ms/step - loss: 0.4415 - accuracy: 0.8707 - val_loss: 0.4200 - val_accuracy: 0.9269\n",
            "Epoch 49/100\n",
            "32/32 [==============================] - 2s 48ms/step - loss: 0.4451 - accuracy: 0.8784 - val_loss: 0.4295 - val_accuracy: 0.8995\n",
            "Epoch 50/100\n",
            "32/32 [==============================] - 2s 50ms/step - loss: 0.4421 - accuracy: 0.8749 - val_loss: 0.4540 - val_accuracy: 0.8858\n",
            "Epoch 51/100\n",
            "32/32 [==============================] - 2s 49ms/step - loss: 0.4519 - accuracy: 0.8773 - val_loss: 0.4352 - val_accuracy: 0.8904\n",
            "Epoch 52/100\n",
            "32/32 [==============================] - 2s 49ms/step - loss: 0.4374 - accuracy: 0.8705 - val_loss: 0.4173 - val_accuracy: 0.9178\n",
            "Epoch 53/100\n",
            "32/32 [==============================] - 2s 49ms/step - loss: 0.4373 - accuracy: 0.8792 - val_loss: 0.4347 - val_accuracy: 0.8904\n",
            "Epoch 54/100\n",
            "32/32 [==============================] - 2s 50ms/step - loss: 0.4407 - accuracy: 0.8792 - val_loss: 0.4259 - val_accuracy: 0.8995\n",
            "Epoch 55/100\n",
            "32/32 [==============================] - 2s 50ms/step - loss: 0.4234 - accuracy: 0.8846 - val_loss: 0.4207 - val_accuracy: 0.9178\n",
            "Epoch 56/100\n",
            "32/32 [==============================] - 2s 49ms/step - loss: 0.4205 - accuracy: 0.8819 - val_loss: 0.4227 - val_accuracy: 0.9224\n",
            "Epoch 57/100\n",
            "32/32 [==============================] - 2s 48ms/step - loss: 0.4078 - accuracy: 0.9037 - val_loss: 0.4188 - val_accuracy: 0.9224\n",
            "Epoch 58/100\n",
            "32/32 [==============================] - 2s 51ms/step - loss: 0.4164 - accuracy: 0.8887 - val_loss: 0.4315 - val_accuracy: 0.9178\n",
            "Epoch 59/100\n",
            "32/32 [==============================] - 2s 50ms/step - loss: 0.4247 - accuracy: 0.8811 - val_loss: 0.4184 - val_accuracy: 0.9132\n",
            "Epoch 60/100\n",
            "32/32 [==============================] - 2s 48ms/step - loss: 0.4406 - accuracy: 0.8582 - val_loss: 0.4212 - val_accuracy: 0.9132\n",
            "Epoch 61/100\n",
            "32/32 [==============================] - 2s 49ms/step - loss: 0.4319 - accuracy: 0.8757 - val_loss: 0.4256 - val_accuracy: 0.8995\n",
            "Epoch 62/100\n",
            "32/32 [==============================] - 2s 53ms/step - loss: 0.4158 - accuracy: 0.8923 - val_loss: 0.4220 - val_accuracy: 0.9087\n",
            "Epoch 63/100\n",
            "32/32 [==============================] - 2s 51ms/step - loss: 0.4248 - accuracy: 0.8879 - val_loss: 0.4279 - val_accuracy: 0.8995\n",
            "Epoch 64/100\n",
            "32/32 [==============================] - 2s 49ms/step - loss: 0.4680 - accuracy: 0.8593 - val_loss: 0.4241 - val_accuracy: 0.9132\n",
            "Epoch 65/100\n",
            "32/32 [==============================] - 2s 50ms/step - loss: 0.4100 - accuracy: 0.8994 - val_loss: 0.4219 - val_accuracy: 0.9041\n",
            "Epoch 66/100\n",
            "32/32 [==============================] - 2s 49ms/step - loss: 0.4454 - accuracy: 0.8854 - val_loss: 0.4644 - val_accuracy: 0.8721\n",
            "Epoch 67/100\n",
            "32/32 [==============================] - 2s 50ms/step - loss: 0.4927 - accuracy: 0.8563 - val_loss: 0.4200 - val_accuracy: 0.9224\n",
            "Epoch 68/100\n",
            "32/32 [==============================] - 2s 50ms/step - loss: 0.4097 - accuracy: 0.9008 - val_loss: 0.4671 - val_accuracy: 0.8904\n",
            "Epoch 69/100\n",
            "32/32 [==============================] - 2s 51ms/step - loss: 0.4373 - accuracy: 0.8666 - val_loss: 0.4158 - val_accuracy: 0.9269\n",
            "Epoch 70/100\n",
            "32/32 [==============================] - 2s 50ms/step - loss: 0.4613 - accuracy: 0.8598 - val_loss: 0.4212 - val_accuracy: 0.9224\n",
            "Epoch 71/100\n",
            "32/32 [==============================] - 2s 50ms/step - loss: 0.4492 - accuracy: 0.8793 - val_loss: 0.4255 - val_accuracy: 0.9087\n",
            "Epoch 72/100\n",
            "32/32 [==============================] - 2s 50ms/step - loss: 0.4619 - accuracy: 0.8683 - val_loss: 0.4293 - val_accuracy: 0.9269\n",
            "Epoch 73/100\n",
            "32/32 [==============================] - 2s 50ms/step - loss: 0.4374 - accuracy: 0.8689 - val_loss: 0.4254 - val_accuracy: 0.8995\n",
            "Epoch 74/100\n",
            "32/32 [==============================] - 2s 48ms/step - loss: 0.4512 - accuracy: 0.8649 - val_loss: 0.4222 - val_accuracy: 0.9224\n",
            "Epoch 75/100\n",
            "32/32 [==============================] - 2s 50ms/step - loss: 0.4231 - accuracy: 0.8874 - val_loss: 0.4254 - val_accuracy: 0.9041\n",
            "Epoch 76/100\n",
            "32/32 [==============================] - 2s 50ms/step - loss: 0.4359 - accuracy: 0.8776 - val_loss: 0.4216 - val_accuracy: 0.9224\n",
            "Epoch 77/100\n",
            "32/32 [==============================] - 2s 50ms/step - loss: 0.4206 - accuracy: 0.8860 - val_loss: 0.4326 - val_accuracy: 0.8904\n",
            "Epoch 78/100\n",
            "32/32 [==============================] - 2s 50ms/step - loss: 0.4350 - accuracy: 0.8792 - val_loss: 0.4197 - val_accuracy: 0.9224\n",
            "Epoch 79/100\n",
            "32/32 [==============================] - 2s 49ms/step - loss: 0.4429 - accuracy: 0.8738 - val_loss: 0.4174 - val_accuracy: 0.9224\n",
            "Epoch 80/100\n",
            "32/32 [==============================] - 2s 50ms/step - loss: 0.4408 - accuracy: 0.8690 - val_loss: 0.4209 - val_accuracy: 0.9224\n",
            "Epoch 81/100\n",
            "32/32 [==============================] - 2s 51ms/step - loss: 0.4305 - accuracy: 0.8830 - val_loss: 0.4185 - val_accuracy: 0.9224\n",
            "Epoch 82/100\n",
            "32/32 [==============================] - 2s 51ms/step - loss: 0.4301 - accuracy: 0.8778 - val_loss: 0.4930 - val_accuracy: 0.8630\n",
            "Epoch 83/100\n",
            "32/32 [==============================] - 2s 49ms/step - loss: 0.4635 - accuracy: 0.8830 - val_loss: 0.4224 - val_accuracy: 0.8995\n",
            "Epoch 84/100\n",
            "32/32 [==============================] - 2s 49ms/step - loss: 0.4211 - accuracy: 0.8928 - val_loss: 0.4350 - val_accuracy: 0.9224\n",
            "Epoch 85/100\n",
            "32/32 [==============================] - 2s 49ms/step - loss: 0.4509 - accuracy: 0.8593 - val_loss: 0.4515 - val_accuracy: 0.8858\n",
            "Epoch 86/100\n",
            "32/32 [==============================] - 2s 50ms/step - loss: 0.4218 - accuracy: 0.8794 - val_loss: 0.4306 - val_accuracy: 0.8995\n",
            "Epoch 87/100\n",
            "32/32 [==============================] - 2s 61ms/step - loss: 0.4273 - accuracy: 0.8935 - val_loss: 0.4312 - val_accuracy: 0.8950\n",
            "Epoch 88/100\n",
            "32/32 [==============================] - 2s 63ms/step - loss: 0.4292 - accuracy: 0.8719 - val_loss: 0.4271 - val_accuracy: 0.9132\n",
            "Epoch 89/100\n",
            "32/32 [==============================] - 2s 52ms/step - loss: 0.4226 - accuracy: 0.8872 - val_loss: 0.4616 - val_accuracy: 0.8950\n",
            "Epoch 90/100\n",
            "32/32 [==============================] - 2s 53ms/step - loss: 0.4452 - accuracy: 0.8724 - val_loss: 0.4265 - val_accuracy: 0.8995\n",
            "Epoch 91/100\n",
            "32/32 [==============================] - 2s 51ms/step - loss: 0.4232 - accuracy: 0.8843 - val_loss: 0.4186 - val_accuracy: 0.9224\n",
            "Epoch 92/100\n",
            "32/32 [==============================] - 2s 53ms/step - loss: 0.4101 - accuracy: 0.8884 - val_loss: 0.4309 - val_accuracy: 0.8950\n",
            "Epoch 93/100\n",
            "32/32 [==============================] - 2s 56ms/step - loss: 0.4439 - accuracy: 0.8736 - val_loss: 0.4301 - val_accuracy: 0.8995\n",
            "Epoch 94/100\n",
            "32/32 [==============================] - 2s 54ms/step - loss: 0.4532 - accuracy: 0.8632 - val_loss: 0.4279 - val_accuracy: 0.8995\n",
            "Epoch 95/100\n",
            "32/32 [==============================] - 2s 51ms/step - loss: 0.4565 - accuracy: 0.8844 - val_loss: 0.4295 - val_accuracy: 0.8950\n",
            "Epoch 96/100\n",
            "32/32 [==============================] - 2s 50ms/step - loss: 0.4323 - accuracy: 0.8778 - val_loss: 0.4279 - val_accuracy: 0.8995\n",
            "Epoch 97/100\n",
            "32/32 [==============================] - 2s 52ms/step - loss: 0.4489 - accuracy: 0.8583 - val_loss: 0.4186 - val_accuracy: 0.9269\n",
            "Epoch 98/100\n",
            "32/32 [==============================] - 2s 48ms/step - loss: 0.4508 - accuracy: 0.8769 - val_loss: 0.4298 - val_accuracy: 0.8995\n",
            "Epoch 99/100\n",
            "32/32 [==============================] - 2s 50ms/step - loss: 0.4131 - accuracy: 0.8823 - val_loss: 0.4310 - val_accuracy: 0.9178\n",
            "Epoch 100/100\n",
            "32/32 [==============================] - 2s 50ms/step - loss: 0.4601 - accuracy: 0.8649 - val_loss: 0.4416 - val_accuracy: 0.8904\n"
          ],
          "name": "stdout"
        }
      ]
    },
    {
      "cell_type": "markdown",
      "metadata": {
        "id": "c1g96VCHUihF"
      },
      "source": [
        "For the Model 3 graphs, the loss is a lot higher at the start because we've changed our loss function. To plot such that the window is zoomed in between 0 and 1.2 for the loss, we add an additional line of code (plt.ylim) when plotting"
      ]
    },
    {
      "cell_type": "code",
      "metadata": {
        "id": "Myh4fyLdUihF",
        "colab": {
          "base_uri": "https://localhost:8080/",
          "height": 295
        },
        "outputId": "3e7b7574-ccd3-41ea-eb05-c12d0cdf3631"
      },
      "source": [
        "plt.plot(hist_3.history['loss'])\n",
        "plt.plot(hist_3.history['val_loss'])\n",
        "plt.title('Model loss')\n",
        "plt.ylabel('Loss')\n",
        "plt.xlabel('Epoch')\n",
        "plt.legend(['Train', 'Val'], loc='upper right')\n",
        "plt.ylim(top=1.2, bottom=0)\n",
        "plt.show()"
      ],
      "execution_count": 28,
      "outputs": [
        {
          "output_type": "display_data",
          "data": {
            "image/png": "[encoded data removed]",
            "text/plain": [
              "<Figure size 432x288 with 1 Axes>"
            ]
          },
          "metadata": {
            "tags": [],
            "needs_background": "light"
          }
        }
      ]
    },
    {
      "cell_type": "code",
      "metadata": {
        "id": "VgTvoItoUihF",
        "colab": {
          "base_uri": "https://localhost:8080/",
          "height": 295
        },
        "outputId": "638fa396-9b5d-4642-e6be-7b322b752703"
      },
      "source": [
        "plt.plot(hist_3.history['accuracy'])\n",
        "plt.plot(hist_3.history['val_accuracy'])\n",
        "plt.title('Model accuracy')\n",
        "plt.ylabel('Accuracy')\n",
        "plt.xlabel('Epoch')\n",
        "plt.legend(['Train', 'Val'], loc='lower right')\n",
        "plt.show()"
      ],
      "execution_count": 29,
      "outputs": [
        {
          "output_type": "display_data",
          "data": {
            "image/png": "[encoded data removed]",
            "text/plain": [
              "<Figure size 432x288 with 1 Axes>"
            ]
          },
          "metadata": {
            "tags": [],
            "needs_background": "light"
          }
        }
      ]
    },
    {
      "cell_type": "markdown",
      "metadata": {
        "id": "k22yQJytUihF"
      },
      "source": [
        "As compared to Model 2, there is less overfitting!"
      ]
    },
    {
      "cell_type": "markdown",
      "metadata": {
        "id": "qPNNAcgpyJ6N"
      },
      "source": [
        "# Mean Squared Error Loss "
      ]
    },
    {
      "cell_type": "code",
      "metadata": {
        "colab": {
          "base_uri": "https://localhost:8080/"
        },
        "id": "OlZgAjRFyUkY",
        "outputId": "da989112-8de3-448a-e516-09e3eb2d4e8f"
      },
      "source": [
        "# same layers as original model\r\n",
        "model_4 = Sequential([\r\n",
        "    Dense(32, activation='relu', input_shape=(10,)),\r\n",
        "    Dense(32, activation='relu'),\r\n",
        "    Dense(1, activation='sigmoid'),\r\n",
        "])\r\n",
        "\r\n",
        "model_4.compile(optimizer='sgd',\r\n",
        "\r\n",
        "              loss='mean_squared_error',\r\n",
        "              metrics=['accuracy'])\r\n",
        "\r\n",
        "hist_4 = model_4.fit(X_train, Y_train,\r\n",
        "          batch_size=32, epochs=100,\r\n",
        "          validation_data=(X_val, Y_val))"
      ],
      "execution_count": 30,
      "outputs": [
        {
          "output_type": "stream",
          "text": [
            "Epoch 1/100\n",
            "32/32 [==============================] - 1s 7ms/step - loss: 0.2561 - accuracy: 0.4862 - val_loss: 0.2532 - val_accuracy: 0.4703\n",
            "Epoch 2/100\n",
            "32/32 [==============================] - 0s 3ms/step - loss: 0.2518 - accuracy: 0.5114 - val_loss: 0.2499 - val_accuracy: 0.5616\n",
            "Epoch 3/100\n",
            "32/32 [==============================] - 0s 2ms/step - loss: 0.2496 - accuracy: 0.5484 - val_loss: 0.2472 - val_accuracy: 0.6027\n",
            "Epoch 4/100\n",
            "32/32 [==============================] - 0s 3ms/step - loss: 0.2487 - accuracy: 0.6164 - val_loss: 0.2447 - val_accuracy: 0.6667\n",
            "Epoch 5/100\n",
            "32/32 [==============================] - 0s 3ms/step - loss: 0.2451 - accuracy: 0.6677 - val_loss: 0.2424 - val_accuracy: 0.7260\n",
            "Epoch 6/100\n",
            "32/32 [==============================] - 0s 3ms/step - loss: 0.2436 - accuracy: 0.6917 - val_loss: 0.2403 - val_accuracy: 0.7443\n",
            "Epoch 7/100\n",
            "32/32 [==============================] - 0s 2ms/step - loss: 0.2413 - accuracy: 0.7107 - val_loss: 0.2384 - val_accuracy: 0.7671\n",
            "Epoch 8/100\n",
            "32/32 [==============================] - 0s 2ms/step - loss: 0.2413 - accuracy: 0.7100 - val_loss: 0.2366 - val_accuracy: 0.7808\n",
            "Epoch 9/100\n",
            "32/32 [==============================] - 0s 2ms/step - loss: 0.2391 - accuracy: 0.7254 - val_loss: 0.2348 - val_accuracy: 0.7854\n",
            "Epoch 10/100\n",
            "32/32 [==============================] - 0s 3ms/step - loss: 0.2372 - accuracy: 0.7305 - val_loss: 0.2332 - val_accuracy: 0.7808\n",
            "Epoch 11/100\n",
            "32/32 [==============================] - 0s 2ms/step - loss: 0.2340 - accuracy: 0.7724 - val_loss: 0.2315 - val_accuracy: 0.7808\n",
            "Epoch 12/100\n",
            "32/32 [==============================] - 0s 2ms/step - loss: 0.2333 - accuracy: 0.7617 - val_loss: 0.2297 - val_accuracy: 0.7808\n",
            "Epoch 13/100\n",
            "32/32 [==============================] - 0s 2ms/step - loss: 0.2307 - accuracy: 0.7859 - val_loss: 0.2281 - val_accuracy: 0.7900\n",
            "Epoch 14/100\n",
            "32/32 [==============================] - 0s 2ms/step - loss: 0.2318 - accuracy: 0.7428 - val_loss: 0.2263 - val_accuracy: 0.8037\n",
            "Epoch 15/100\n",
            "32/32 [==============================] - 0s 2ms/step - loss: 0.2273 - accuracy: 0.7986 - val_loss: 0.2246 - val_accuracy: 0.8037\n",
            "Epoch 16/100\n",
            "32/32 [==============================] - 0s 6ms/step - loss: 0.2282 - accuracy: 0.7795 - val_loss: 0.2228 - val_accuracy: 0.8082\n",
            "Epoch 17/100\n",
            "32/32 [==============================] - 0s 3ms/step - loss: 0.2247 - accuracy: 0.8036 - val_loss: 0.2211 - val_accuracy: 0.8128\n",
            "Epoch 18/100\n",
            "32/32 [==============================] - 0s 3ms/step - loss: 0.2221 - accuracy: 0.8134 - val_loss: 0.2194 - val_accuracy: 0.8219\n",
            "Epoch 19/100\n",
            "32/32 [==============================] - 0s 3ms/step - loss: 0.2224 - accuracy: 0.8133 - val_loss: 0.2177 - val_accuracy: 0.8219\n",
            "Epoch 20/100\n",
            "32/32 [==============================] - 0s 3ms/step - loss: 0.2194 - accuracy: 0.8339 - val_loss: 0.2160 - val_accuracy: 0.8174\n",
            "Epoch 21/100\n",
            "32/32 [==============================] - 0s 3ms/step - loss: 0.2179 - accuracy: 0.8148 - val_loss: 0.2142 - val_accuracy: 0.8174\n",
            "Epoch 22/100\n",
            "32/32 [==============================] - 0s 3ms/step - loss: 0.2177 - accuracy: 0.8065 - val_loss: 0.2125 - val_accuracy: 0.8311\n",
            "Epoch 23/100\n",
            "32/32 [==============================] - 0s 2ms/step - loss: 0.2157 - accuracy: 0.8168 - val_loss: 0.2106 - val_accuracy: 0.8311\n",
            "Epoch 24/100\n",
            "32/32 [==============================] - 0s 3ms/step - loss: 0.2144 - accuracy: 0.8024 - val_loss: 0.2088 - val_accuracy: 0.8311\n",
            "Epoch 25/100\n",
            "32/32 [==============================] - 0s 2ms/step - loss: 0.2109 - accuracy: 0.8216 - val_loss: 0.2068 - val_accuracy: 0.8311\n",
            "Epoch 26/100\n",
            "32/32 [==============================] - 0s 3ms/step - loss: 0.2097 - accuracy: 0.8258 - val_loss: 0.2048 - val_accuracy: 0.8311\n",
            "Epoch 27/100\n",
            "32/32 [==============================] - 0s 2ms/step - loss: 0.2091 - accuracy: 0.8289 - val_loss: 0.2028 - val_accuracy: 0.8311\n",
            "Epoch 28/100\n",
            "32/32 [==============================] - 0s 3ms/step - loss: 0.2060 - accuracy: 0.8374 - val_loss: 0.2009 - val_accuracy: 0.8402\n",
            "Epoch 29/100\n",
            "32/32 [==============================] - 0s 2ms/step - loss: 0.2022 - accuracy: 0.8502 - val_loss: 0.1989 - val_accuracy: 0.8447\n",
            "Epoch 30/100\n",
            "32/32 [==============================] - 0s 2ms/step - loss: 0.2009 - accuracy: 0.8540 - val_loss: 0.1971 - val_accuracy: 0.8447\n",
            "Epoch 31/100\n",
            "32/32 [==============================] - 0s 2ms/step - loss: 0.1999 - accuracy: 0.8451 - val_loss: 0.1951 - val_accuracy: 0.8402\n",
            "Epoch 32/100\n",
            "32/32 [==============================] - 0s 2ms/step - loss: 0.1974 - accuracy: 0.8522 - val_loss: 0.1932 - val_accuracy: 0.8447\n",
            "Epoch 33/100\n",
            "32/32 [==============================] - 0s 2ms/step - loss: 0.1954 - accuracy: 0.8460 - val_loss: 0.1913 - val_accuracy: 0.8493\n",
            "Epoch 34/100\n",
            "32/32 [==============================] - 0s 2ms/step - loss: 0.1951 - accuracy: 0.8451 - val_loss: 0.1893 - val_accuracy: 0.8493\n",
            "Epoch 35/100\n",
            "32/32 [==============================] - 0s 2ms/step - loss: 0.1927 - accuracy: 0.8557 - val_loss: 0.1872 - val_accuracy: 0.8539\n",
            "Epoch 36/100\n",
            "32/32 [==============================] - 0s 3ms/step - loss: 0.1886 - accuracy: 0.8621 - val_loss: 0.1853 - val_accuracy: 0.8539\n",
            "Epoch 37/100\n",
            "32/32 [==============================] - 0s 3ms/step - loss: 0.1893 - accuracy: 0.8545 - val_loss: 0.1833 - val_accuracy: 0.8539\n",
            "Epoch 38/100\n",
            "32/32 [==============================] - 0s 3ms/step - loss: 0.1842 - accuracy: 0.8756 - val_loss: 0.1814 - val_accuracy: 0.8539\n",
            "Epoch 39/100\n",
            "32/32 [==============================] - 0s 3ms/step - loss: 0.1861 - accuracy: 0.8600 - val_loss: 0.1793 - val_accuracy: 0.8539\n",
            "Epoch 40/100\n",
            "32/32 [==============================] - 0s 3ms/step - loss: 0.1808 - accuracy: 0.8733 - val_loss: 0.1773 - val_accuracy: 0.8539\n",
            "Epoch 41/100\n",
            "32/32 [==============================] - 0s 2ms/step - loss: 0.1792 - accuracy: 0.8619 - val_loss: 0.1753 - val_accuracy: 0.8539\n",
            "Epoch 42/100\n",
            "32/32 [==============================] - 0s 3ms/step - loss: 0.1804 - accuracy: 0.8670 - val_loss: 0.1732 - val_accuracy: 0.8539\n",
            "Epoch 43/100\n",
            "32/32 [==============================] - 0s 2ms/step - loss: 0.1769 - accuracy: 0.8707 - val_loss: 0.1713 - val_accuracy: 0.8539\n",
            "Epoch 44/100\n",
            "32/32 [==============================] - 0s 2ms/step - loss: 0.1744 - accuracy: 0.8722 - val_loss: 0.1692 - val_accuracy: 0.8584\n",
            "Epoch 45/100\n",
            "32/32 [==============================] - 0s 2ms/step - loss: 0.1734 - accuracy: 0.8551 - val_loss: 0.1672 - val_accuracy: 0.8584\n",
            "Epoch 46/100\n",
            "32/32 [==============================] - 0s 3ms/step - loss: 0.1675 - accuracy: 0.8867 - val_loss: 0.1652 - val_accuracy: 0.8630\n",
            "Epoch 47/100\n",
            "32/32 [==============================] - 0s 2ms/step - loss: 0.1692 - accuracy: 0.8638 - val_loss: 0.1632 - val_accuracy: 0.8630\n",
            "Epoch 48/100\n",
            "32/32 [==============================] - 0s 3ms/step - loss: 0.1659 - accuracy: 0.8683 - val_loss: 0.1612 - val_accuracy: 0.8630\n",
            "Epoch 49/100\n",
            "32/32 [==============================] - 0s 3ms/step - loss: 0.1634 - accuracy: 0.8723 - val_loss: 0.1593 - val_accuracy: 0.8767\n",
            "Epoch 50/100\n",
            "32/32 [==============================] - 0s 3ms/step - loss: 0.1639 - accuracy: 0.8618 - val_loss: 0.1573 - val_accuracy: 0.8721\n",
            "Epoch 51/100\n",
            "32/32 [==============================] - 0s 3ms/step - loss: 0.1599 - accuracy: 0.8698 - val_loss: 0.1555 - val_accuracy: 0.8767\n",
            "Epoch 52/100\n",
            "32/32 [==============================] - 0s 3ms/step - loss: 0.1575 - accuracy: 0.8695 - val_loss: 0.1536 - val_accuracy: 0.8767\n",
            "Epoch 53/100\n",
            "32/32 [==============================] - 0s 2ms/step - loss: 0.1643 - accuracy: 0.8477 - val_loss: 0.1519 - val_accuracy: 0.8813\n",
            "Epoch 54/100\n",
            "32/32 [==============================] - 0s 3ms/step - loss: 0.1540 - accuracy: 0.8636 - val_loss: 0.1499 - val_accuracy: 0.8813\n",
            "Epoch 55/100\n",
            "32/32 [==============================] - 0s 2ms/step - loss: 0.1505 - accuracy: 0.8774 - val_loss: 0.1482 - val_accuracy: 0.8813\n",
            "Epoch 56/100\n",
            "32/32 [==============================] - 0s 3ms/step - loss: 0.1525 - accuracy: 0.8749 - val_loss: 0.1463 - val_accuracy: 0.8813\n",
            "Epoch 57/100\n",
            "32/32 [==============================] - 0s 3ms/step - loss: 0.1457 - accuracy: 0.8856 - val_loss: 0.1447 - val_accuracy: 0.8813\n",
            "Epoch 58/100\n",
            "32/32 [==============================] - 0s 2ms/step - loss: 0.1487 - accuracy: 0.8790 - val_loss: 0.1430 - val_accuracy: 0.8813\n",
            "Epoch 59/100\n",
            "32/32 [==============================] - 0s 3ms/step - loss: 0.1483 - accuracy: 0.8651 - val_loss: 0.1414 - val_accuracy: 0.8813\n",
            "Epoch 60/100\n",
            "32/32 [==============================] - 0s 2ms/step - loss: 0.1492 - accuracy: 0.8592 - val_loss: 0.1398 - val_accuracy: 0.8813\n",
            "Epoch 61/100\n",
            "32/32 [==============================] - 0s 3ms/step - loss: 0.1445 - accuracy: 0.8702 - val_loss: 0.1381 - val_accuracy: 0.8813\n",
            "Epoch 62/100\n",
            "32/32 [==============================] - 0s 2ms/step - loss: 0.1372 - accuracy: 0.8783 - val_loss: 0.1367 - val_accuracy: 0.8813\n",
            "Epoch 63/100\n",
            "32/32 [==============================] - 0s 3ms/step - loss: 0.1431 - accuracy: 0.8587 - val_loss: 0.1351 - val_accuracy: 0.8813\n",
            "Epoch 64/100\n",
            "32/32 [==============================] - 0s 2ms/step - loss: 0.1352 - accuracy: 0.8683 - val_loss: 0.1336 - val_accuracy: 0.8813\n",
            "Epoch 65/100\n",
            "32/32 [==============================] - 0s 3ms/step - loss: 0.1367 - accuracy: 0.8713 - val_loss: 0.1321 - val_accuracy: 0.8813\n",
            "Epoch 66/100\n",
            "32/32 [==============================] - 0s 2ms/step - loss: 0.1367 - accuracy: 0.8733 - val_loss: 0.1309 - val_accuracy: 0.8813\n",
            "Epoch 67/100\n",
            "32/32 [==============================] - 0s 3ms/step - loss: 0.1337 - accuracy: 0.8628 - val_loss: 0.1295 - val_accuracy: 0.8813\n",
            "Epoch 68/100\n",
            "32/32 [==============================] - 0s 3ms/step - loss: 0.1380 - accuracy: 0.8501 - val_loss: 0.1282 - val_accuracy: 0.8813\n",
            "Epoch 69/100\n",
            "32/32 [==============================] - 0s 3ms/step - loss: 0.1350 - accuracy: 0.8708 - val_loss: 0.1270 - val_accuracy: 0.8813\n",
            "Epoch 70/100\n",
            "32/32 [==============================] - 0s 3ms/step - loss: 0.1308 - accuracy: 0.8707 - val_loss: 0.1258 - val_accuracy: 0.8813\n",
            "Epoch 71/100\n",
            "32/32 [==============================] - 0s 3ms/step - loss: 0.1284 - accuracy: 0.8653 - val_loss: 0.1246 - val_accuracy: 0.8813\n",
            "Epoch 72/100\n",
            "32/32 [==============================] - 0s 2ms/step - loss: 0.1284 - accuracy: 0.8809 - val_loss: 0.1234 - val_accuracy: 0.8813\n",
            "Epoch 73/100\n",
            "32/32 [==============================] - 0s 3ms/step - loss: 0.1255 - accuracy: 0.8823 - val_loss: 0.1222 - val_accuracy: 0.8813\n",
            "Epoch 74/100\n",
            "32/32 [==============================] - 0s 2ms/step - loss: 0.1289 - accuracy: 0.8611 - val_loss: 0.1211 - val_accuracy: 0.8813\n",
            "Epoch 75/100\n",
            "32/32 [==============================] - 0s 3ms/step - loss: 0.1275 - accuracy: 0.8688 - val_loss: 0.1200 - val_accuracy: 0.8813\n",
            "Epoch 76/100\n",
            "32/32 [==============================] - 0s 2ms/step - loss: 0.1219 - accuracy: 0.8678 - val_loss: 0.1191 - val_accuracy: 0.8813\n",
            "Epoch 77/100\n",
            "32/32 [==============================] - 0s 2ms/step - loss: 0.1306 - accuracy: 0.8499 - val_loss: 0.1181 - val_accuracy: 0.8813\n",
            "Epoch 78/100\n",
            "32/32 [==============================] - 0s 2ms/step - loss: 0.1260 - accuracy: 0.8554 - val_loss: 0.1172 - val_accuracy: 0.8813\n",
            "Epoch 79/100\n",
            "32/32 [==============================] - 0s 3ms/step - loss: 0.1240 - accuracy: 0.8589 - val_loss: 0.1163 - val_accuracy: 0.8813\n",
            "Epoch 80/100\n",
            "32/32 [==============================] - 0s 3ms/step - loss: 0.1189 - accuracy: 0.8721 - val_loss: 0.1153 - val_accuracy: 0.8813\n",
            "Epoch 81/100\n",
            "32/32 [==============================] - 0s 2ms/step - loss: 0.1240 - accuracy: 0.8505 - val_loss: 0.1144 - val_accuracy: 0.8813\n",
            "Epoch 82/100\n",
            "32/32 [==============================] - 0s 2ms/step - loss: 0.1181 - accuracy: 0.8666 - val_loss: 0.1136 - val_accuracy: 0.8813\n",
            "Epoch 83/100\n",
            "32/32 [==============================] - 0s 2ms/step - loss: 0.1166 - accuracy: 0.8800 - val_loss: 0.1128 - val_accuracy: 0.8813\n",
            "Epoch 84/100\n",
            "32/32 [==============================] - 0s 3ms/step - loss: 0.1119 - accuracy: 0.8876 - val_loss: 0.1120 - val_accuracy: 0.8813\n",
            "Epoch 85/100\n",
            "32/32 [==============================] - 0s 2ms/step - loss: 0.1144 - accuracy: 0.8823 - val_loss: 0.1112 - val_accuracy: 0.8813\n",
            "Epoch 86/100\n",
            "32/32 [==============================] - 0s 3ms/step - loss: 0.1190 - accuracy: 0.8617 - val_loss: 0.1105 - val_accuracy: 0.8813\n",
            "Epoch 87/100\n",
            "32/32 [==============================] - 0s 3ms/step - loss: 0.1143 - accuracy: 0.8768 - val_loss: 0.1097 - val_accuracy: 0.8813\n",
            "Epoch 88/100\n",
            "32/32 [==============================] - 0s 3ms/step - loss: 0.1096 - accuracy: 0.8737 - val_loss: 0.1091 - val_accuracy: 0.8813\n",
            "Epoch 89/100\n",
            "32/32 [==============================] - 0s 3ms/step - loss: 0.1154 - accuracy: 0.8658 - val_loss: 0.1084 - val_accuracy: 0.8813\n",
            "Epoch 90/100\n",
            "32/32 [==============================] - 0s 3ms/step - loss: 0.1125 - accuracy: 0.8679 - val_loss: 0.1077 - val_accuracy: 0.8813\n",
            "Epoch 91/100\n",
            "32/32 [==============================] - 0s 3ms/step - loss: 0.1152 - accuracy: 0.8626 - val_loss: 0.1071 - val_accuracy: 0.8813\n",
            "Epoch 92/100\n",
            "32/32 [==============================] - 0s 3ms/step - loss: 0.1084 - accuracy: 0.8839 - val_loss: 0.1065 - val_accuracy: 0.8813\n",
            "Epoch 93/100\n",
            "32/32 [==============================] - 0s 2ms/step - loss: 0.1063 - accuracy: 0.8819 - val_loss: 0.1059 - val_accuracy: 0.8813\n",
            "Epoch 94/100\n",
            "32/32 [==============================] - 0s 3ms/step - loss: 0.1100 - accuracy: 0.8793 - val_loss: 0.1054 - val_accuracy: 0.8813\n",
            "Epoch 95/100\n",
            "32/32 [==============================] - 0s 2ms/step - loss: 0.1113 - accuracy: 0.8640 - val_loss: 0.1048 - val_accuracy: 0.8813\n",
            "Epoch 96/100\n",
            "32/32 [==============================] - 0s 3ms/step - loss: 0.1128 - accuracy: 0.8607 - val_loss: 0.1043 - val_accuracy: 0.8813\n",
            "Epoch 97/100\n",
            "32/32 [==============================] - 0s 3ms/step - loss: 0.1047 - accuracy: 0.8845 - val_loss: 0.1038 - val_accuracy: 0.8813\n",
            "Epoch 98/100\n",
            "32/32 [==============================] - 0s 3ms/step - loss: 0.1179 - accuracy: 0.8436 - val_loss: 0.1032 - val_accuracy: 0.8813\n",
            "Epoch 99/100\n",
            "32/32 [==============================] - 0s 3ms/step - loss: 0.1020 - accuracy: 0.8713 - val_loss: 0.1027 - val_accuracy: 0.8813\n",
            "Epoch 100/100\n",
            "32/32 [==============================] - 0s 2ms/step - loss: 0.1115 - accuracy: 0.8644 - val_loss: 0.1023 - val_accuracy: 0.8813\n"
          ],
          "name": "stdout"
        }
      ]
    },
    {
      "cell_type": "code",
      "metadata": {
        "colab": {
          "base_uri": "https://localhost:8080/",
          "height": 295
        },
        "id": "C_ybfzCDy5-q",
        "outputId": "ff806789-3bb3-4516-cb0d-3bde994d7c76"
      },
      "source": [
        "plt.plot(hist_4.history['loss'])\r\n",
        "plt.plot(hist_4.history['val_loss'])\r\n",
        "plt.title('Loss / Mean Squared Error')\r\n",
        "plt.ylabel('Loss')\r\n",
        "plt.xlabel('Epoch')\r\n",
        "plt.legend(['Train', 'Val'], loc='upper right')\r\n",
        "plt.show()"
      ],
      "execution_count": 32,
      "outputs": [
        {
          "output_type": "display_data",
          "data": {
            "image/png": "[encoded data removed]",
            "text/plain": [
              "<Figure size 432x288 with 1 Axes>"
            ]
          },
          "metadata": {
            "tags": [],
            "needs_background": "light"
          }
        }
      ]
    }
  ]
}